{
 "cells": [
  {
   "cell_type": "markdown",
   "id": "a22bd2e7",
   "metadata": {},
   "source": [
    "## mRNA location classifier in the intestinal epithelium\n",
    "\n",
    "It provides mRNA location classifier in the intestinal epithelium cell. Through 392 highly expressed and siginficantly localised mRNA transcripts, it trains SVM (Support Vector Machine)."
   ]
  },
  {
   "cell_type": "markdown",
   "id": "69b0fd2a",
   "metadata": {},
   "source": [
    "### STEP 1. mRNA sequence retrieval\n",
    "\n",
    "Moor et al. found 9905 mRNAs in the intestinal epithelium. The list of mRNA is in [this supplement](https://science.sciencemag.org/highwire/filestream/697854/field_highwire_adjunct_files/2/aan2399_table_S1.xlsx). We downloaded mRNA sequences from Ensembl. The sequence data contains each 3'UTR, coding, 5'UTR sequences. The downloaded sequence files (s1_cdna.zip, s1_cds.zip) are in [this site](https://github.com/byeungchun/rnamotif/tree/main/samples)."
   ]
  },
  {
   "cell_type": "code",
   "execution_count": 1,
   "id": "71fe978b",
   "metadata": {},
   "outputs": [],
   "source": [
    "%load_ext autoreload\n",
    "%autoreload 2"
   ]
  },
  {
   "cell_type": "code",
   "execution_count": 2,
   "id": "a3beabdc",
   "metadata": {},
   "outputs": [],
   "source": [
    "import os\n",
    "import glob\n",
    "import pickle\n",
    "import numpy as np\n",
    "import pandas as pd"
   ]
  },
  {
   "cell_type": "code",
   "execution_count": 3,
   "id": "e4c69781-1714-46b7-ac59-04ffebcffffc",
   "metadata": {},
   "outputs": [],
   "source": [
    "os.chdir('..')"
   ]
  },
  {
   "cell_type": "code",
   "execution_count": 15,
   "id": "a597c2c1-e036-411a-8c20-3e2766bbd315",
   "metadata": {},
   "outputs": [],
   "source": [
    "from mofiwo.utility import load_cdna_cds_zipfile"
   ]
  },
  {
   "cell_type": "code",
   "execution_count": 5,
   "id": "91c4aac7",
   "metadata": {},
   "outputs": [],
   "source": []
  },
  {
   "cell_type": "markdown",
   "id": "ff612cd4",
   "metadata": {},
   "source": [
    "### STEP 2. feature data generation\n",
    "\n",
    "It applies [RNA-GPS method](https://rnajournal.cshlp.org/content/early/2020/03/27/rna.074161.119.abstract) to generate features as machine learning algorithm input. Because it makes 4032 features per each sequences, it takes time to calculate. "
   ]
  },
  {
   "cell_type": "code",
   "execution_count": 6,
   "id": "eb3e5b07",
   "metadata": {},
   "outputs": [],
   "source": [
    "from mofiwo.analysis import (\n",
    "    generate_feature_by_kmer_loc,\n",
    "    generate_feature_by_kmer_loc_multi\n",
    ")\n",
    "from sklearn.model_selection import train_test_split\n",
    "from sklearn.preprocessing import StandardScaler"
   ]
  },
  {
   "cell_type": "code",
   "execution_count": 7,
   "id": "5b6fc528",
   "metadata": {},
   "outputs": [],
   "source": [
    "def generate_feature_kmer(seqs:dict, use_parallel:bool=True)->pd.DataFrame:\n",
    "    # generate feature and fill NaN to 0.0\n",
    "    \n",
    "    if use_parallel:\n",
    "        df_seq = generate_feature_by_kmer_loc_multi(seqs)\n",
    "    else:\n",
    "        df_seq = generate_feature_by_kmer_loc(seqs, need_log=True)\n",
    "    \n",
    "    df_seq = pd.DataFrame(df_seq)\n",
    "    df_seq.fillna(0.0, inplace=True)\n",
    "\n",
    "    return df_seq"
   ]
  },
  {
   "cell_type": "code",
   "execution_count": 8,
   "id": "ce7f995d",
   "metadata": {},
   "outputs": [],
   "source": [
    "def generate_class_y_val(df_s1:pd.DataFrame)->pd.DataFrame:\n",
    "    # Remove non-existing sequence and add a classification value for b values\n",
    "    df_s1['b2'] = df_s1.b.apply(lambda x: 1 if x>0 else -1)\n",
    "    \n",
    "    return df_s1"
   ]
  },
  {
   "cell_type": "code",
   "execution_count": 9,
   "id": "9c471cb0",
   "metadata": {},
   "outputs": [],
   "source": [
    "def get_feature_id(\n",
    "    df_s1:pd.DataFrame,\n",
    "    min_bval:float=0.5, \n",
    "    min_mean_obs:float=3.5, \n",
    "    max_qval:float=0.2,\n",
    "    choice_prob:float=0.8, # Randomly selected\n",
    "    used_id:list=None) -> list:\n",
    "    \n",
    "    if used_id is not None:\n",
    "        df_s1 = df_s1[df_s1.target_id.apply(lambda x: x not in list(used_id))]\n",
    "    \n",
    "    feature_id = df_s1[(abs(df_s1.b) > min_bval) & \n",
    "                       (df_s1.mean_obs > min_mean_obs) & \n",
    "                       (df_s1.qval < max_qval)\n",
    "                      ].target_id\n",
    "    feature_id = np.random.choice(feature_id, int(len(feature_id) * choice_prob), replace=False)\n",
    "    return feature_id"
   ]
  },
  {
   "cell_type": "code",
   "execution_count": 10,
   "id": "71afebde",
   "metadata": {},
   "outputs": [],
   "source": [
    "def generate_feature_dataframe(\n",
    "    feature_ids: list,\n",
    "    df_seq: pd.DataFrame,\n",
    "    df_s1: pd.DataFrame)->pd.DataFrame:\n",
    "    \n",
    "    df_x = df_seq[feature_ids].T\n",
    "    df_y = pd.DataFrame(\n",
    "        {x: int(df_s1[df_s1.target_id == x]['b2']) for x in feature_ids}, \n",
    "        index=[0]).T\n",
    "    \n",
    "    return pd.merge(df_x, df_y, left_index=True, right_index=True)"
   ]
  },
  {
   "cell_type": "code",
   "execution_count": 11,
   "id": "a7ad8707",
   "metadata": {},
   "outputs": [],
   "source": [
    "def generate_train_test_dataset(\n",
    "    df_xy:pd.DataFrame,\n",
    "    test_size: float = 0.2,\n",
    "    random_state: int = 0\n",
    ")->dict:\n",
    "    X = df_xy.iloc[:, :-1].values\n",
    "    y = df_xy.iloc[:, -1].values\n",
    "    sc = StandardScaler()\n",
    "    \n",
    "    if test_size == 0:\n",
    "        X_train = X\n",
    "        y_train = y\n",
    "        X_test = None\n",
    "        y_test = None\n",
    "    else:\n",
    "        X_train, X_test, y_train, y_test = train_test_split(\n",
    "            X,\n",
    "            y,\n",
    "            test_size=test_size,\n",
    "            random_state=random_state\n",
    "        )\n",
    "        X_test = sc.transform(X_test)\n",
    "        \n",
    "    X_train = sc.fit_transform(X_train)\n",
    "    \n",
    "    return {'x_train': X_train, 'x_test': X_test, 'y_train': y_train, 'y_test': y_test}"
   ]
  },
  {
   "cell_type": "markdown",
   "id": "a24b9d47",
   "metadata": {},
   "source": [
    "## STEP 3. Machine learning exercise"
   ]
  },
  {
   "cell_type": "markdown",
   "id": "462ab435-dcdb-40c5-81b6-1099e787b2dd",
   "metadata": {},
   "source": [
    "It is in mofiwo module"
   ]
  },
  {
   "cell_type": "markdown",
   "id": "7f1681df",
   "metadata": {},
   "source": [
    "### STEP 4. Evaluate an optimized model with unused dataset"
   ]
  },
  {
   "cell_type": "code",
   "execution_count": 12,
   "id": "35766c02",
   "metadata": {},
   "outputs": [],
   "source": [
    "def get_ml_model_test_data(\n",
    "    df_s1:pd.DataFrame,\n",
    "    used_id:list,\n",
    "    df_seq:pd.DataFrame,\n",
    "    selected_features: pd.Index = None\n",
    ")->float:\n",
    "    \n",
    "    test_id = get_feature_id(df_s1,used_id=feature_id)\n",
    "    df_test_xy = generate_feature_dataframe(test_id, df_seq, df_s1)\n",
    "    if selected_features is not None:\n",
    "        df_test_xy = df_test_xy.loc[:, selected_features]\n",
    "    dic_test = generate_train_test_dataset(df_test_xy, test_size =0)\n",
    "    \n",
    "    return test_id, dic_test['x_train'], dic_test['y_train']"
   ]
  },
  {
   "cell_type": "markdown",
   "id": "31a430ab",
   "metadata": {},
   "source": [
    "## Model test with feature selection"
   ]
  },
  {
   "cell_type": "code",
   "execution_count": 16,
   "id": "ce75e59e-936b-4eb8-9086-45b81309eff1",
   "metadata": {},
   "outputs": [],
   "source": [
    "import time\n",
    "import pandas as pd\n",
    "import numpy as np\n",
    "from sklearn.feature_selection import SelectKBest\n",
    "from sklearn.feature_selection import chi2"
   ]
  },
  {
   "cell_type": "code",
   "execution_count": 17,
   "id": "8bcb9d5a-0f56-40ee-94e0-461730786b4d",
   "metadata": {},
   "outputs": [],
   "source": [
    "from mofiwo.analysis import execute_random_forest"
   ]
  },
  {
   "cell_type": "code",
   "execution_count": null,
   "id": "259b22b5",
   "metadata": {
    "tags": []
   },
   "outputs": [],
   "source": [
    "downloadloc = os.path.join(os.path.expanduser('~'), r'workspace\\rnamotif\\samples')\n",
    "# load sequence data from \n",
    "seqs = load_cdna_cds_zipfile(downloadloc,'s1_cdna.zip','s1_cds.zip')\n",
    "df_s1 = pd.read_excel(os.path.join(downloadloc,'aan2399_table_S1.xlsx'))"
   ]
  },
  {
   "cell_type": "code",
   "execution_count": null,
   "id": "83beebd2-5e89-475a-87f3-685cd4149e81",
   "metadata": {},
   "outputs": [],
   "source": []
  },
  {
   "cell_type": "code",
   "execution_count": null,
   "id": "cfb8d65d-cef3-46c8-b31d-218907585a09",
   "metadata": {},
   "outputs": [],
   "source": []
  },
  {
   "cell_type": "code",
   "execution_count": 70,
   "id": "c892aadf",
   "metadata": {},
   "outputs": [
    {
     "name": "stdout",
     "output_type": "stream",
     "text": [
      "elaspsed_time(sec): 783.926221370697\n"
     ]
    }
   ],
   "source": [
    "start = time.time()\n",
    "\n",
    "df_seq = generate_feature_kmer(seqs, use_parallel=True)\n",
    "\n",
    "print(f'elaspsed_time(sec): {time.time() - start}')"
   ]
  },
  {
   "cell_type": "code",
   "execution_count": 14,
   "id": "19d4fe44",
   "metadata": {},
   "outputs": [],
   "source": [
    "df_seq = pd.read_parquet('./notebook/feature_intestine.gzip.parquet')\n",
    "df_seq.fillna(0.0, inplace=True)"
   ]
  },
  {
   "cell_type": "code",
   "execution_count": 15,
   "id": "b8f91955",
   "metadata": {},
   "outputs": [],
   "source": [
    "df_s1 = df_s1[df_s1.target_id.isin(list(df_seq.columns))]\n",
    "df_s1 = generate_class_y_val(df_s1)"
   ]
  },
  {
   "cell_type": "code",
   "execution_count": 147,
   "id": "aab5840c-ebd8-40da-8e5f-8efa8a855613",
   "metadata": {},
   "outputs": [
    {
     "name": "stdout",
     "output_type": "stream",
     "text": [
      "elapsed_time(sec): 2948.5445413589478\n",
      "elapsed_time(sec): 3051.4732053279877\n",
      "elapsed_time(sec): 3101.1912755966187\n",
      "elapsed_time(sec): 3119.8752188682556\n",
      "elapsed_time(sec): 3240.6897366046906\n",
      "elapsed_time(sec): 3455.61479473114\n",
      "elapsed_time(sec): 3583.795501947403\n",
      "elapsed_time(sec): 3836.619782447815\n"
     ]
    }
   ],
   "source": [
    "for num_features in [50,100,150,200,300,500,700,1000]:\n",
    "    bestfeatures = SelectKBest(score_func=chi2, k=num_features)\n",
    "\n",
    "    res = list()\n",
    "    for i in range(100):\n",
    "        feature_id = get_feature_id(df_s1, choice_prob=0.8)\n",
    "        df_xy = generate_feature_dataframe(feature_id, df_seq,df_s1)\n",
    "\n",
    "        # featurization\n",
    "        X = df_xy.iloc[:,:-1]\n",
    "        y = df_xy.iloc[:,-1]\n",
    "        fit = bestfeatures.fit(X,y)\n",
    "        df_featured = df_xy.loc[:,pd.DataFrame(fit.scores_, index = X.columns).sort_values(0, ascending=False)[0:num_features].index]\n",
    "        df_xy = pd.merge(df_featured, df_xy.iloc[:,-1],left_index=True, right_index=True)\n",
    "\n",
    "        dic_tt = generate_train_test_dataset(df_xy, test_size=0)\n",
    "        # feature_test_id, x_test, y_test = get_ml_model_test_data(df_s1,feature_id,df_seq)\n",
    "        feature_test_id, x_test, y_test = get_ml_model_test_data(df_s1,feature_id,df_seq, df_xy.columns)\n",
    "        res.append([{\n",
    "            '_id':i,\n",
    "            'x_train':dic_tt['x_train'],\n",
    "            'y_train':dic_tt['y_train'],\n",
    "            'x_test':x_test,\n",
    "            'y_test':y_test,\n",
    "            'feature_test_id':feature_id,\n",
    "            'features':list(df_xy.columns)\n",
    "        }])\n",
    "\n",
    "    start = time.time()\n",
    "\n",
    "    execute_random_forest(res, '~\\Downloads\\mrna2', f'ml_model_feature{num_features}')\n",
    "\n",
    "    print(f'elapsed_time(sec): {time.time() - start}')"
   ]
  },
  {
   "cell_type": "code",
   "execution_count": 185,
   "id": "e22be2ba-49a5-4e0b-875f-8ecce0592a39",
   "metadata": {},
   "outputs": [],
   "source": [
    "model_folder = '~\\Downloads\\mrna2'\n",
    "\n",
    "res = dict()\n",
    "for num_features in [50,100,150,200,300,500,700,1000]:\n",
    "    scores = dict()\n",
    "    for x in glob.glob(os.path.join(os.path.expanduser(model_folder), f'ml_model_feature{num_features}_*')):\n",
    "        _model = pickle.load(open(os.path.join(os.path.expanduser(model_folder),x), 'rb'))\n",
    "        ml_model = _model['ml_model']\n",
    "        x_test = _model['x_test']\n",
    "        y_test = _model['y_test']\n",
    "        scores[x] = {'score': ml_model.score(x_test, y_test), 'features': _model['features'] }\n",
    "    res[num_features] = scores"
   ]
  },
  {
   "cell_type": "code",
   "execution_count": 186,
   "id": "403aa19a-97d3-49a3-97d7-e16390d33a3b",
   "metadata": {},
   "outputs": [],
   "source": [
    "scores = dict()\n",
    "for num_features in [50,100,150,200,300,500,700,1000]:\n",
    "    scores[num_features] = pd.Series([x['score'] for x in res[num_features].values()])"
   ]
  },
  {
   "cell_type": "code",
   "execution_count": 188,
   "id": "1e59cc05-50b4-4ab3-b7c6-9e4f58995889",
   "metadata": {},
   "outputs": [],
   "source": [
    "df_features = pd.DataFrame({k: v.describe() for k, v in scores.items()})"
   ]
  },
  {
   "cell_type": "code",
   "execution_count": 190,
   "id": "09591e43-92ba-43e2-af31-26d5b87e389c",
   "metadata": {},
   "outputs": [],
   "source": [
    "model_folder = '~\\Downloads\\mrna'\n",
    "\n",
    "scores = dict()\n",
    "for x in glob.glob(os.path.join(os.path.expanduser(model_folder), f'ml_model*')):\n",
    "    _model = pickle.load(open(os.path.join(os.path.expanduser(model_folder),x), 'rb'))\n",
    "    ml_model = _model['ml_model']\n",
    "    x_test = _model['x_test']\n",
    "    y_test = _model['y_test']\n",
    "    scores[x] = {'score': ml_model.score(x_test, y_test)}\n"
   ]
  },
  {
   "cell_type": "code",
   "execution_count": 197,
   "id": "c8281928-e079-43e6-be8b-9bc1bee8cbf8",
   "metadata": {},
   "outputs": [],
   "source": [
    "df_all_features = pd.DataFrame(scores.values())['score'].describe()"
   ]
  },
  {
   "cell_type": "code",
   "execution_count": 199,
   "id": "1e20bec1-28a9-49e2-a881-98ba064b5e22",
   "metadata": {},
   "outputs": [],
   "source": [
    "df_all =pd.merge(df_features, df_all_features, left_index=True, right_index=True)"
   ]
  },
  {
   "cell_type": "code",
   "execution_count": 200,
   "id": "ec93f064-61ff-4070-bbe8-d07dba40fbe4",
   "metadata": {},
   "outputs": [
    {
     "data": {
      "text/html": [
       "<div>\n",
       "<style scoped>\n",
       "    .dataframe tbody tr th:only-of-type {\n",
       "        vertical-align: middle;\n",
       "    }\n",
       "\n",
       "    .dataframe tbody tr th {\n",
       "        vertical-align: top;\n",
       "    }\n",
       "\n",
       "    .dataframe thead th {\n",
       "        text-align: right;\n",
       "    }\n",
       "</style>\n",
       "<table border=\"1\" class=\"dataframe\">\n",
       "  <thead>\n",
       "    <tr style=\"text-align: right;\">\n",
       "      <th></th>\n",
       "      <th>50</th>\n",
       "      <th>100</th>\n",
       "      <th>150</th>\n",
       "      <th>200</th>\n",
       "      <th>300</th>\n",
       "      <th>500</th>\n",
       "      <th>700</th>\n",
       "      <th>1000</th>\n",
       "      <th>score</th>\n",
       "    </tr>\n",
       "  </thead>\n",
       "  <tbody>\n",
       "    <tr>\n",
       "      <th>count</th>\n",
       "      <td>100.000000</td>\n",
       "      <td>100.000000</td>\n",
       "      <td>100.000000</td>\n",
       "      <td>100.000000</td>\n",
       "      <td>100.000000</td>\n",
       "      <td>100.000000</td>\n",
       "      <td>100.000000</td>\n",
       "      <td>100.000000</td>\n",
       "      <td>100.000000</td>\n",
       "    </tr>\n",
       "    <tr>\n",
       "      <th>mean</th>\n",
       "      <td>0.794375</td>\n",
       "      <td>0.812813</td>\n",
       "      <td>0.819688</td>\n",
       "      <td>0.815937</td>\n",
       "      <td>0.819531</td>\n",
       "      <td>0.825781</td>\n",
       "      <td>0.816719</td>\n",
       "      <td>0.837500</td>\n",
       "      <td>0.829375</td>\n",
       "    </tr>\n",
       "    <tr>\n",
       "      <th>std</th>\n",
       "      <td>0.050581</td>\n",
       "      <td>0.047371</td>\n",
       "      <td>0.046448</td>\n",
       "      <td>0.045815</td>\n",
       "      <td>0.045696</td>\n",
       "      <td>0.054053</td>\n",
       "      <td>0.045668</td>\n",
       "      <td>0.047111</td>\n",
       "      <td>0.040079</td>\n",
       "    </tr>\n",
       "    <tr>\n",
       "      <th>min</th>\n",
       "      <td>0.671875</td>\n",
       "      <td>0.687500</td>\n",
       "      <td>0.703125</td>\n",
       "      <td>0.671875</td>\n",
       "      <td>0.718750</td>\n",
       "      <td>0.687500</td>\n",
       "      <td>0.703125</td>\n",
       "      <td>0.718750</td>\n",
       "      <td>0.734375</td>\n",
       "    </tr>\n",
       "    <tr>\n",
       "      <th>25%</th>\n",
       "      <td>0.765625</td>\n",
       "      <td>0.781250</td>\n",
       "      <td>0.796875</td>\n",
       "      <td>0.781250</td>\n",
       "      <td>0.781250</td>\n",
       "      <td>0.792969</td>\n",
       "      <td>0.781250</td>\n",
       "      <td>0.812500</td>\n",
       "      <td>0.796875</td>\n",
       "    </tr>\n",
       "    <tr>\n",
       "      <th>50%</th>\n",
       "      <td>0.796875</td>\n",
       "      <td>0.812500</td>\n",
       "      <td>0.812500</td>\n",
       "      <td>0.812500</td>\n",
       "      <td>0.812500</td>\n",
       "      <td>0.828125</td>\n",
       "      <td>0.812500</td>\n",
       "      <td>0.843750</td>\n",
       "      <td>0.828125</td>\n",
       "    </tr>\n",
       "    <tr>\n",
       "      <th>75%</th>\n",
       "      <td>0.828125</td>\n",
       "      <td>0.843750</td>\n",
       "      <td>0.859375</td>\n",
       "      <td>0.847656</td>\n",
       "      <td>0.843750</td>\n",
       "      <td>0.859375</td>\n",
       "      <td>0.847656</td>\n",
       "      <td>0.863281</td>\n",
       "      <td>0.859375</td>\n",
       "    </tr>\n",
       "    <tr>\n",
       "      <th>max</th>\n",
       "      <td>0.921875</td>\n",
       "      <td>0.921875</td>\n",
       "      <td>0.921875</td>\n",
       "      <td>0.906250</td>\n",
       "      <td>0.953125</td>\n",
       "      <td>0.921875</td>\n",
       "      <td>0.921875</td>\n",
       "      <td>0.937500</td>\n",
       "      <td>0.906250</td>\n",
       "    </tr>\n",
       "  </tbody>\n",
       "</table>\n",
       "</div>"
      ],
      "text/plain": [
       "               50         100         150         200         300         500  \\\n",
       "count  100.000000  100.000000  100.000000  100.000000  100.000000  100.000000   \n",
       "mean     0.794375    0.812813    0.819688    0.815937    0.819531    0.825781   \n",
       "std      0.050581    0.047371    0.046448    0.045815    0.045696    0.054053   \n",
       "min      0.671875    0.687500    0.703125    0.671875    0.718750    0.687500   \n",
       "25%      0.765625    0.781250    0.796875    0.781250    0.781250    0.792969   \n",
       "50%      0.796875    0.812500    0.812500    0.812500    0.812500    0.828125   \n",
       "75%      0.828125    0.843750    0.859375    0.847656    0.843750    0.859375   \n",
       "max      0.921875    0.921875    0.921875    0.906250    0.953125    0.921875   \n",
       "\n",
       "              700        1000       score  \n",
       "count  100.000000  100.000000  100.000000  \n",
       "mean     0.816719    0.837500    0.829375  \n",
       "std      0.045668    0.047111    0.040079  \n",
       "min      0.703125    0.718750    0.734375  \n",
       "25%      0.781250    0.812500    0.796875  \n",
       "50%      0.812500    0.843750    0.828125  \n",
       "75%      0.847656    0.863281    0.859375  \n",
       "max      0.921875    0.937500    0.906250  "
      ]
     },
     "execution_count": 200,
     "metadata": {},
     "output_type": "execute_result"
    }
   ],
   "source": [
    "df_all"
   ]
  },
  {
   "cell_type": "code",
   "execution_count": null,
   "id": "64c55c17-3c55-4d23-85db-cbee4afa9fea",
   "metadata": {},
   "outputs": [],
   "source": []
  }
 ],
 "metadata": {
  "kernelspec": {
   "display_name": "Python 3",
   "language": "python",
   "name": "python3"
  },
  "language_info": {
   "codemirror_mode": {
    "name": "ipython",
    "version": 3
   },
   "file_extension": ".py",
   "mimetype": "text/x-python",
   "name": "python",
   "nbconvert_exporter": "python",
   "pygments_lexer": "ipython3",
   "version": "3.8.3"
  }
 },
 "nbformat": 4,
 "nbformat_minor": 5
}
