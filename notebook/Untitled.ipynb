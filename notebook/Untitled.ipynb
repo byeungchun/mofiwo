{
 "cells": [
  {
   "cell_type": "code",
   "execution_count": 1,
   "id": "controlling-health",
   "metadata": {},
   "outputs": [],
   "source": [
    "%load_ext autoreload\n",
    "%autoreload 2"
   ]
  },
  {
   "cell_type": "code",
   "execution_count": 2,
   "id": "objective-cancer",
   "metadata": {},
   "outputs": [],
   "source": [
    "import os"
   ]
  },
  {
   "cell_type": "code",
   "execution_count": 3,
   "id": "retained-crime",
   "metadata": {},
   "outputs": [],
   "source": [
    "from Bio import SeqIO"
   ]
  },
  {
   "cell_type": "code",
   "execution_count": null,
   "id": "fundamental-cycling",
   "metadata": {},
   "outputs": [],
   "source": []
  },
  {
   "cell_type": "code",
   "execution_count": 12,
   "id": "inclusive-awareness",
   "metadata": {},
   "outputs": [],
   "source": [
    "loc = r'E:\\Users\\byeungchun\\Downloads'\n",
    "fa_file = r'Mus_musculus_Jchain_201_sequence.fa'"
   ]
  },
  {
   "cell_type": "code",
   "execution_count": 29,
   "id": "marine-sugar",
   "metadata": {},
   "outputs": [],
   "source": [
    "foo = SeqIO.parse(os.path.join(loc, fa_file), 'fasta')"
   ]
  },
  {
   "cell_type": "code",
   "execution_count": 30,
   "id": "ideal-survival",
   "metadata": {},
   "outputs": [],
   "source": [
    "bar = {i:x for i, x in enumerate(foo)}    "
   ]
  },
  {
   "cell_type": "code",
   "execution_count": 46,
   "id": "banner-defensive",
   "metadata": {},
   "outputs": [],
   "source": [
    "seqs = [str(x.seq) for x in bar.values()]"
   ]
  },
  {
   "cell_type": "code",
   "execution_count": 48,
   "id": "distinguished-conversation",
   "metadata": {},
   "outputs": [
    {
     "data": {
      "text/plain": [
       "17705"
      ]
     },
     "execution_count": 48,
     "metadata": {},
     "output_type": "execute_result"
    }
   ],
   "source": [
    "sum([len(seq) for seq in seqs])"
   ]
  },
  {
   "cell_type": "code",
   "execution_count": 38,
   "id": "concrete-morris",
   "metadata": {},
   "outputs": [],
   "source": [
    "bar1 = bar[12].seq"
   ]
  },
  {
   "cell_type": "code",
   "execution_count": 4,
   "id": "conceptual-termination",
   "metadata": {},
   "outputs": [],
   "source": [
    "from io import StringIO"
   ]
  },
  {
   "cell_type": "code",
   "execution_count": 20,
   "id": "finite-divide",
   "metadata": {},
   "outputs": [],
   "source": [
    "cds_str = \"\"\">Jchain-201 cds:protein_coding\n",
    "ATGAAGACCCACCTGCTTCTCTGGGGAGTCCTGGCCATTTTTGTTAAGGCTGTCCTTGTA\n",
    "ACAGGTGACGACGAAGCGACCATTCTTGCTGACAACAAATGCATGTGTACCCGAGTTACC\n",
    "TCTAGGATCATCCCTTCCACCGAGGATCCTAATGAGGACATTGTGGAGAGAAATATCCGA\n",
    "ATTGTTGTCCCTTTGAACAACAGGGAGAATATCTCTGATCCCACCTCCCCACTGAGAAGG\n",
    "AACTTTGTATACCATTTGTCAGACGTCTGTAAGAAATGCGATCCTGTGGAAGTGGAGCTG\n",
    "GAAGATCAGGTTGTTACTGCCACCCAGAGCAACATCTGCAATGAAGACGATGGTGTTCCT\n",
    "GAGACCTGCTACATGTATGACAGAAACAAGTGCTATACCACTATGGTCCCACTTAGGTAT\n",
    "CATGGTGAGACCAAAATGGTGCAAGCAGCCTTGACCCCCGATTCTTGCTACCCTGACTAG\n",
    "\"\"\""
   ]
  },
  {
   "cell_type": "code",
   "execution_count": 21,
   "id": "promising-fortune",
   "metadata": {},
   "outputs": [
    {
     "data": {
      "text/plain": [
       "'>Jchain-201 cds:protein_coding\\nATGAAGACCCACCTGCTTCTCTGGGGAGTCCTGGCCATTTTTGTTAAGGCTGTCCTTGTA\\nACAGGTGACGACGAAGCGACCATTCTTGCTGACAACAAATGCATGTGTACCCGAGTTACC\\nTCTAGGATCATCCCTTCCACCGAGGATCCTAATGAGGACATTGTGGAGAGAAATATCCGA\\nATTGTTGTCCCTTTGAACAACAGGGAGAATATCTCTGATCCCACCTCCCCACTGAGAAGG\\nAACTTTGTATACCATTTGTCAGACGTCTGTAAGAAATGCGATCCTGTGGAAGTGGAGCTG\\nGAAGATCAGGTTGTTACTGCCACCCAGAGCAACATCTGCAATGAAGACGATGGTGTTCCT\\nGAGACCTGCTACATGTATGACAGAAACAAGTGCTATACCACTATGGTCCCACTTAGGTAT\\nCATGGTGAGACCAAAATGGTGCAAGCAGCCTTGACCCCCGATTCTTGCTACCCTGACTAG\\n'"
      ]
     },
     "execution_count": 21,
     "metadata": {},
     "output_type": "execute_result"
    }
   ],
   "source": [
    "cds_str"
   ]
  },
  {
   "cell_type": "code",
   "execution_count": 25,
   "id": "global-intermediate",
   "metadata": {},
   "outputs": [],
   "source": [
    "cds_201= SeqIO.parse(StringIO(cds_str), \"fasta\")"
   ]
  },
  {
   "cell_type": "code",
   "execution_count": 26,
   "id": "olive-calibration",
   "metadata": {},
   "outputs": [],
   "source": [
    "foo = next(cds_201)"
   ]
  },
  {
   "cell_type": "code",
   "execution_count": 27,
   "id": "instructional-canal",
   "metadata": {},
   "outputs": [
    {
     "data": {
      "text/plain": [
       "'Jchain-201'"
      ]
     },
     "execution_count": 27,
     "metadata": {},
     "output_type": "execute_result"
    }
   ],
   "source": [
    "foo.name"
   ]
  },
  {
   "cell_type": "code",
   "execution_count": 28,
   "id": "greatest-camel",
   "metadata": {},
   "outputs": [
    {
     "data": {
      "text/plain": [
       "'Jchain-201 cds:protein_coding'"
      ]
     },
     "execution_count": 28,
     "metadata": {},
     "output_type": "execute_result"
    }
   ],
   "source": [
    "foo.description"
   ]
  },
  {
   "cell_type": "code",
   "execution_count": 34,
   "id": "accurate-wages",
   "metadata": {},
   "outputs": [],
   "source": [
    "foo1 = str(foo.translate().seq)"
   ]
  },
  {
   "cell_type": "code",
   "execution_count": 33,
   "id": "polished-shade",
   "metadata": {},
   "outputs": [],
   "source": [
    "bar = 'MKTHLLLWGVLAIFVKAVLVTGDDEATILADNKCMCTRVTSRIIPSTEDPNEDIVERNIRIVVPLNNRENISDPTSPLRRNFVYHLSDVCKKCDPVEVELEDQVVTATQSNICNEDDGVPETCYMYDRNKCYTTMVPLRYHGETKMVQAALTPDSCYPD'"
   ]
  },
  {
   "cell_type": "code",
   "execution_count": 36,
   "id": "welsh-velvet",
   "metadata": {},
   "outputs": [],
   "source": [
    "foo1 = foo1[:-1]"
   ]
  },
  {
   "cell_type": "code",
   "execution_count": 37,
   "id": "complex-coordinator",
   "metadata": {},
   "outputs": [
    {
     "data": {
      "text/plain": [
       "True"
      ]
     },
     "execution_count": 37,
     "metadata": {},
     "output_type": "execute_result"
    }
   ],
   "source": [
    "bar == foo1"
   ]
  },
  {
   "cell_type": "code",
   "execution_count": null,
   "id": "variable-conservation",
   "metadata": {},
   "outputs": [],
   "source": []
  }
 ],
 "metadata": {
  "kernelspec": {
   "display_name": "Python 3",
   "language": "python",
   "name": "python3"
  },
  "language_info": {
   "codemirror_mode": {
    "name": "ipython",
    "version": 3
   },
   "file_extension": ".py",
   "mimetype": "text/x-python",
   "name": "python",
   "nbconvert_exporter": "python",
   "pygments_lexer": "ipython3",
   "version": "3.8.2"
  }
 },
 "nbformat": 4,
 "nbformat_minor": 5
}
