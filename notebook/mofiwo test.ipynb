{
 "cells": [
  {
   "cell_type": "code",
   "execution_count": 1,
   "id": "invalid-paris",
   "metadata": {},
   "outputs": [],
   "source": [
    "%load_ext autoreload\n",
    "%autoreload 2"
   ]
  },
  {
   "cell_type": "code",
   "execution_count": 34,
   "id": "smoking-alpha",
   "metadata": {},
   "outputs": [],
   "source": [
    "import os\n",
    "import warnings"
   ]
  },
  {
   "cell_type": "code",
   "execution_count": 35,
   "id": "another-serve",
   "metadata": {},
   "outputs": [],
   "source": [
    "warnings.filterwarnings('ignore')"
   ]
  },
  {
   "cell_type": "code",
   "execution_count": 3,
   "id": "supported-straight",
   "metadata": {},
   "outputs": [],
   "source": [
    "os.chdir('..')"
   ]
  },
  {
   "cell_type": "code",
   "execution_count": 10,
   "id": "israeli-paris",
   "metadata": {},
   "outputs": [],
   "source": [
    "import requests\n",
    "from mofiwo.connector.ensembl import read_ensembl"
   ]
  },
  {
   "cell_type": "code",
   "execution_count": 36,
   "id": "color-diagram",
   "metadata": {},
   "outputs": [],
   "source": [
    "ret_esm = read_ensembl('ENSMUST00000037811', req_param={'type':'cds'})"
   ]
  },
  {
   "cell_type": "code",
   "execution_count": null,
   "id": "greatest-paris",
   "metadata": {},
   "outputs": [],
   "source": []
  }
 ],
 "metadata": {
  "kernelspec": {
   "display_name": "Python 3",
   "language": "python",
   "name": "python3"
  },
  "language_info": {
   "codemirror_mode": {
    "name": "ipython",
    "version": 3
   },
   "file_extension": ".py",
   "mimetype": "text/x-python",
   "name": "python",
   "nbconvert_exporter": "python",
   "pygments_lexer": "ipython3",
   "version": "3.8.3"
  }
 },
 "nbformat": 4,
 "nbformat_minor": 5
}
