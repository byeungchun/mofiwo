{
 "cells": [
  {
   "cell_type": "code",
   "execution_count": 1,
   "id": "smooth-explosion",
   "metadata": {},
   "outputs": [],
   "source": [
    "%load_ext autoreload\n",
    "%autoreload 2"
   ]
  },
  {
   "cell_type": "code",
   "execution_count": 2,
   "id": "bronze-hunger",
   "metadata": {},
   "outputs": [],
   "source": [
    "import os\n",
    "import warnings"
   ]
  },
  {
   "cell_type": "code",
   "execution_count": 3,
   "id": "verified-mechanics",
   "metadata": {},
   "outputs": [],
   "source": [
    "warnings.filterwarnings('ignore')"
   ]
  },
  {
   "cell_type": "code",
   "execution_count": 4,
   "id": "brown-response",
   "metadata": {},
   "outputs": [],
   "source": [
    "os.chdir('..')"
   ]
  },
  {
   "cell_type": "code",
   "execution_count": 5,
   "id": "metric-reply",
   "metadata": {},
   "outputs": [],
   "source": [
    "import requests\n",
    "from mofiwo.connector.ensembl import read_ensembl"
   ]
  },
  {
   "cell_type": "code",
   "execution_count": 6,
   "id": "supposed-rebecca",
   "metadata": {},
   "outputs": [],
   "source": [
    "ret_esm = read_ensembl('ENSMUST00000037811', req_param={'type':'cds'})"
   ]
  },
  {
   "cell_type": "code",
   "execution_count": 14,
   "id": "planned-mother",
   "metadata": {},
   "outputs": [],
   "source": [
    "from mofiwo.utility.rna_handler import load_rna_fasta_zipfile"
   ]
  },
  {
   "cell_type": "code",
   "execution_count": 11,
   "id": "republican-vegetable",
   "metadata": {},
   "outputs": [],
   "source": [
    "fasta_zipfile = r'C:/Users/byeun/Downloads/s1_cds.zip'"
   ]
  },
  {
   "cell_type": "code",
   "execution_count": 16,
   "id": "intended-malaysia",
   "metadata": {},
   "outputs": [],
   "source": [
    "ret = load_rna_fasta_zipfile(fasta_zipfile)"
   ]
  },
  {
   "cell_type": "code",
   "execution_count": 19,
   "id": "historical-orange",
   "metadata": {},
   "outputs": [
    {
     "data": {
      "text/plain": [
       "SeqRecord(seq=Seq('ATGAAGACCCACCTGCTTCTCTGGGGAGTCCTGGCCATTTTTGTTAAGGCTGTC...TAG'), id='ENSMUST00000087033', name='ENSMUST00000087033', description='ENSMUST00000087033 CDS https://rest.ensembl.org/sequence/id/ENSMUST00000087033?type=cds', dbxrefs=[])"
      ]
     },
     "execution_count": 19,
     "metadata": {},
     "output_type": "execute_result"
    }
   ],
   "source": [
    "ret[next(iter(ret))]"
   ]
  },
  {
   "cell_type": "code",
   "execution_count": null,
   "id": "behavioral-container",
   "metadata": {},
   "outputs": [],
   "source": []
  }
 ],
 "metadata": {
  "kernelspec": {
   "display_name": "Python 3",
   "language": "python",
   "name": "python3"
  },
  "language_info": {
   "codemirror_mode": {
    "name": "ipython",
    "version": 3
   },
   "file_extension": ".py",
   "mimetype": "text/x-python",
   "name": "python",
   "nbconvert_exporter": "python",
   "pygments_lexer": "ipython3",
   "version": "3.7.4"
  }
 },
 "nbformat": 4,
 "nbformat_minor": 5
}
