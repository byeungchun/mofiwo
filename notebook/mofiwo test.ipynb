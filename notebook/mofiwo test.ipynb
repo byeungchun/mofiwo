{
 "cells": [
  {
   "cell_type": "code",
   "execution_count": 1,
   "id": "confident-devices",
   "metadata": {},
   "outputs": [],
   "source": [
    "%load_ext autoreload\n",
    "%autoreload 2"
   ]
  },
  {
   "cell_type": "code",
   "execution_count": 2,
   "id": "genuine-relay",
   "metadata": {},
   "outputs": [],
   "source": [
    "import os\n",
    "import warnings"
   ]
  },
  {
   "cell_type": "code",
   "execution_count": 3,
   "id": "based-maryland",
   "metadata": {},
   "outputs": [],
   "source": [
    "warnings.filterwarnings('ignore')"
   ]
  },
  {
   "cell_type": "code",
   "execution_count": 4,
   "id": "mysterious-atmosphere",
   "metadata": {},
   "outputs": [],
   "source": [
    "os.chdir('..')"
   ]
  },
  {
   "cell_type": "code",
   "execution_count": 5,
   "id": "proud-trunk",
   "metadata": {},
   "outputs": [],
   "source": [
    "import requests\n",
    "from Bio import SeqIO\n",
    "from mofiwo.connector.ensembl import read_ensembl"
   ]
  },
  {
   "cell_type": "code",
   "execution_count": 6,
   "id": "authorized-machine",
   "metadata": {},
   "outputs": [],
   "source": [
    "ret_esm = read_ensembl('ENSMUST00000037811', req_param={'type':'cds'})"
   ]
  },
  {
   "cell_type": "code",
   "execution_count": 6,
   "id": "latter-spine",
   "metadata": {},
   "outputs": [],
   "source": [
    "from mofiwo.utility.rna_handler import load_rna_fasta_zipfile"
   ]
  },
  {
   "cell_type": "code",
   "execution_count": 9,
   "id": "given-antigua",
   "metadata": {},
   "outputs": [],
   "source": [
    "fasta_cds_zipfile = r'E:\\workspace\\rnamotif\\samples\\s1_cds.zip'\n",
    "fasta_cdna_zipfile = r'E:\\workspace\\rnamotif\\samples\\s1_cdna.zip'\n",
    "#fasta_zipfile = r'C:/Users/byeun/Downloads/s1_cds.zip'"
   ]
  },
  {
   "cell_type": "code",
   "execution_count": 10,
   "id": "juvenile-practitioner",
   "metadata": {},
   "outputs": [],
   "source": [
    "dic_cds = load_rna_fasta_zipfile(fasta_cds_zipfile)\n",
    "dic_cdna = load_rna_fasta_zipfile(fasta_cdna_zipfile)"
   ]
  },
  {
   "cell_type": "code",
   "execution_count": 11,
   "id": "flexible-kenya",
   "metadata": {},
   "outputs": [],
   "source": [
    "from mofiwo.utility.rna_handler import generate_3utr_from_cdna_cds"
   ]
  },
  {
   "cell_type": "code",
   "execution_count": null,
   "id": "progressive-savings",
   "metadata": {},
   "outputs": [],
   "source": [
    "dic_utr3 = generate_3utr_from_cdna_cds(dic_cdna, dic_cds)"
   ]
  },
  {
   "cell_type": "code",
   "execution_count": 16,
   "id": "clear-cyprus",
   "metadata": {},
   "outputs": [],
   "source": [
    "import pandas as pd"
   ]
  },
  {
   "cell_type": "code",
   "execution_count": 19,
   "id": "honey-meeting",
   "metadata": {},
   "outputs": [],
   "source": [
    "df_s1 = pd.read_excel(r'E:/workspace/rnamotif/samples/aan2399_table_S1.xlsx')"
   ]
  },
  {
   "cell_type": "code",
   "execution_count": 20,
   "id": "metropolitan-parking",
   "metadata": {},
   "outputs": [
    {
     "data": {
      "text/html": [
       "<div>\n",
       "<style scoped>\n",
       "    .dataframe tbody tr th:only-of-type {\n",
       "        vertical-align: middle;\n",
       "    }\n",
       "\n",
       "    .dataframe tbody tr th {\n",
       "        vertical-align: top;\n",
       "    }\n",
       "\n",
       "    .dataframe thead th {\n",
       "        text-align: right;\n",
       "    }\n",
       "</style>\n",
       "<table border=\"1\" class=\"dataframe\">\n",
       "  <thead>\n",
       "    <tr style=\"text-align: right;\">\n",
       "      <th></th>\n",
       "      <th>target_id</th>\n",
       "      <th>ens_gene</th>\n",
       "      <th>ext_gene</th>\n",
       "      <th>b</th>\n",
       "      <th>pval</th>\n",
       "      <th>qval</th>\n",
       "      <th>mean_obs</th>\n",
       "    </tr>\n",
       "  </thead>\n",
       "  <tbody>\n",
       "    <tr>\n",
       "      <th>0</th>\n",
       "      <td>ENSMUST00000087033</td>\n",
       "      <td>ENSMUSG00000067149</td>\n",
       "      <td>Jchain</td>\n",
       "      <td>-7.288847</td>\n",
       "      <td>1.062304e-56</td>\n",
       "      <td>1.052212e-52</td>\n",
       "      <td>3.310219</td>\n",
       "    </tr>\n",
       "    <tr>\n",
       "      <th>1</th>\n",
       "      <td>ENSMUST00000178282</td>\n",
       "      <td>ENSMUSG00000095079</td>\n",
       "      <td>Igha</td>\n",
       "      <td>-7.194008</td>\n",
       "      <td>4.649536e-56</td>\n",
       "      <td>2.302683e-52</td>\n",
       "      <td>4.962844</td>\n",
       "    </tr>\n",
       "    <tr>\n",
       "      <th>2</th>\n",
       "      <td>ENSMUST00000029805</td>\n",
       "      <td>ENSMUSG00000028158</td>\n",
       "      <td>Mttp</td>\n",
       "      <td>1.606198</td>\n",
       "      <td>8.478666e-50</td>\n",
       "      <td>2.799373e-46</td>\n",
       "      <td>6.664327</td>\n",
       "    </tr>\n",
       "    <tr>\n",
       "      <th>3</th>\n",
       "      <td>ENSMUST00000103410</td>\n",
       "      <td>ENSMUSG00000076609</td>\n",
       "      <td>Igkc</td>\n",
       "      <td>-6.531983</td>\n",
       "      <td>4.362243e-46</td>\n",
       "      <td>1.080200e-42</td>\n",
       "      <td>5.397054</td>\n",
       "    </tr>\n",
       "    <tr>\n",
       "      <th>4</th>\n",
       "      <td>ENSMUST00000073490</td>\n",
       "      <td>ENSMUSG00000026354</td>\n",
       "      <td>Lct</td>\n",
       "      <td>1.863466</td>\n",
       "      <td>7.839152e-40</td>\n",
       "      <td>1.552936e-36</td>\n",
       "      <td>5.571108</td>\n",
       "    </tr>\n",
       "  </tbody>\n",
       "</table>\n",
       "</div>"
      ],
      "text/plain": [
       "            target_id            ens_gene ext_gene         b          pval  \\\n",
       "0  ENSMUST00000087033  ENSMUSG00000067149   Jchain -7.288847  1.062304e-56   \n",
       "1  ENSMUST00000178282  ENSMUSG00000095079     Igha -7.194008  4.649536e-56   \n",
       "2  ENSMUST00000029805  ENSMUSG00000028158     Mttp  1.606198  8.478666e-50   \n",
       "3  ENSMUST00000103410  ENSMUSG00000076609     Igkc -6.531983  4.362243e-46   \n",
       "4  ENSMUST00000073490  ENSMUSG00000026354      Lct  1.863466  7.839152e-40   \n",
       "\n",
       "           qval  mean_obs  \n",
       "0  1.052212e-52  3.310219  \n",
       "1  2.302683e-52  4.962844  \n",
       "2  2.799373e-46  6.664327  \n",
       "3  1.080200e-42  5.397054  \n",
       "4  1.552936e-36  5.571108  "
      ]
     },
     "execution_count": 20,
     "metadata": {},
     "output_type": "execute_result"
    }
   ],
   "source": [
    "df_s1.head()"
   ]
  },
  {
   "cell_type": "code",
   "execution_count": 33,
   "id": "latest-default",
   "metadata": {},
   "outputs": [],
   "source": [
    "lst_apical = list(df_s1[df_s1.apply(lambda x: x.qval < 0.2 and x.b > 0 and x.mean_obs > 3.539 , axis=1)].target_id)\n",
    "dic_apical = {x:dic_utr3[x] for x in lst_apical if x in dic_utr3.keys()}\n",
    "dic_apical = {k:str(v.seq) for k,v in dic_apical.items()}"
   ]
  },
  {
   "cell_type": "code",
   "execution_count": 142,
   "id": "arranged-option",
   "metadata": {},
   "outputs": [],
   "source": [
    "def generate_target_group(df_target, dic_utr3, qval_limit = 0.2, is_apical=True, mean_obs_limit=3.539):\n",
    "    if is_apical:\n",
    "        df_target = df_target[df_target.b > 0]\n",
    "    else:\n",
    "        df_target = df_target[df_target.b < 0]\n",
    "    lst_apical = list(df_target[df_target.apply(lambda x: \n",
    "                                                x.qval < qval_limit and \n",
    "                                                x.mean_obs > mean_obs_limit , axis=1)].target_id)\n",
    "    \n",
    "    return {x:str(dic_utr3[x].seq) for x in lst_apical if x in dic_utr3.keys()}"
   ]
  },
  {
   "cell_type": "code",
   "execution_count": 145,
   "id": "excessive-pepper",
   "metadata": {},
   "outputs": [
    {
     "data": {
      "text/plain": [
       "379"
      ]
     },
     "execution_count": 145,
     "metadata": {},
     "output_type": "execute_result"
    }
   ],
   "source": [
    "dic_apical = generate_target_group(df_s1, dic_utr3)\n",
    "len(dic_apical)"
   ]
  },
  {
   "cell_type": "code",
   "execution_count": 146,
   "id": "electronic-armstrong",
   "metadata": {},
   "outputs": [
    {
     "data": {
      "text/plain": [
       "87"
      ]
     },
     "execution_count": 146,
     "metadata": {},
     "output_type": "execute_result"
    }
   ],
   "source": [
    "dic_basal = generate_target_group(df_s1, dic_utr3, is_apical=False)\n",
    "len(dic_basal)"
   ]
  },
  {
   "cell_type": "code",
   "execution_count": 151,
   "id": "complicated-threshold",
   "metadata": {},
   "outputs": [],
   "source": [
    "import re\n",
    "import pickle\n",
    "import itertools\n",
    "import pandas as pd\n",
    "import numpy as np"
   ]
  },
  {
   "cell_type": "code",
   "execution_count": 176,
   "id": "secondary-profession",
   "metadata": {},
   "outputs": [],
   "source": [
    "def generate_bp_count(bp_grp, dic_seq):\n",
    "    bp_all = itertools.product(['A','T','C','G'], repeat=bp_grp)\n",
    "    bp_all = [''.join(x) for x in bp_all]\n",
    "    bp_cnt = {bp:0 for bp in bp_all}\n",
    "    for key, seq in dic_seq.items():\n",
    "        for bp in bp_all:\n",
    "            num_bp = len(re.findall(bp, seq)) \n",
    "            if num_bp > 0:\n",
    "                bp_cnt[bp] += num_bp\n",
    "    return pd.DataFrame.from_dict(bp_cnt, orient='index', columns=[f'bp_{bp_grp}'])"
   ]
  },
  {
   "cell_type": "code",
   "execution_count": 132,
   "id": "divine-salvation",
   "metadata": {},
   "outputs": [],
   "source": [
    "res_bp = dict()\n",
    "for i in [3,4,5,6,7,8,9]:\n",
    "    res_bp[i] = generate_bp_count(i)\n",
    "pickle.dump({'seq':dic_apical, 'bp_grp':res_bp}, open(r'E:\\workspace\\rnamotif\\samples\\apical_bp_3_9.pickle','wb'))"
   ]
  },
  {
   "cell_type": "code",
   "execution_count": 177,
   "id": "exclusive-throat",
   "metadata": {},
   "outputs": [],
   "source": [
    "bp_grp_basal = {8: generate_bp_count(8,dic_basal)}"
   ]
  },
  {
   "cell_type": "code",
   "execution_count": 179,
   "id": "complete-category",
   "metadata": {},
   "outputs": [],
   "source": [
    "df_temp = bp_grp_basal[8].sort_values('bp_8', ascending=False)\n",
    "df_temp['basal_rank'] = np.arange(len(df_temp))"
   ]
  },
  {
   "cell_type": "code",
   "execution_count": 180,
   "id": "civilian-prague",
   "metadata": {},
   "outputs": [],
   "source": [
    "df_temp2 = res_bp[8].sort_values('bp_8',ascending=False)\n",
    "df_temp2['apical_rank'] = np.arange(len(df_temp2))"
   ]
  },
  {
   "cell_type": "code",
   "execution_count": 182,
   "id": "plain-candle",
   "metadata": {},
   "outputs": [],
   "source": [
    "df_bp8_rank = pd.merge(df_temp['basal_rank'], df_temp2['apical_rank'],left_index=True,right_index=True)"
   ]
  },
  {
   "cell_type": "code",
   "execution_count": 188,
   "id": "soviet-american",
   "metadata": {},
   "outputs": [
    {
     "data": {
      "text/html": [
       "<div>\n",
       "<style scoped>\n",
       "    .dataframe tbody tr th:only-of-type {\n",
       "        vertical-align: middle;\n",
       "    }\n",
       "\n",
       "    .dataframe tbody tr th {\n",
       "        vertical-align: top;\n",
       "    }\n",
       "\n",
       "    .dataframe thead th {\n",
       "        text-align: right;\n",
       "    }\n",
       "</style>\n",
       "<table border=\"1\" class=\"dataframe\">\n",
       "  <thead>\n",
       "    <tr style=\"text-align: right;\">\n",
       "      <th></th>\n",
       "      <th>basal_rank</th>\n",
       "      <th>apical_rank</th>\n",
       "    </tr>\n",
       "  </thead>\n",
       "  <tbody>\n",
       "    <tr>\n",
       "      <th>AAAAAAAA</th>\n",
       "      <td>0</td>\n",
       "      <td>3</td>\n",
       "    </tr>\n",
       "    <tr>\n",
       "      <th>TTTTTTTT</th>\n",
       "      <td>1</td>\n",
       "      <td>0</td>\n",
       "    </tr>\n",
       "    <tr>\n",
       "      <th>AGAAAGAA</th>\n",
       "      <td>2</td>\n",
       "      <td>80</td>\n",
       "    </tr>\n",
       "    <tr>\n",
       "      <th>AAAGAAAG</th>\n",
       "      <td>3</td>\n",
       "      <td>152</td>\n",
       "    </tr>\n",
       "    <tr>\n",
       "      <th>CACACACA</th>\n",
       "      <td>4</td>\n",
       "      <td>7</td>\n",
       "    </tr>\n",
       "    <tr>\n",
       "      <th>AAGAAAGA</th>\n",
       "      <td>5</td>\n",
       "      <td>161</td>\n",
       "    </tr>\n",
       "    <tr>\n",
       "      <th>GAAAGAAA</th>\n",
       "      <td>6</td>\n",
       "      <td>101</td>\n",
       "    </tr>\n",
       "    <tr>\n",
       "      <th>GAGAGAGA</th>\n",
       "      <td>7</td>\n",
       "      <td>292</td>\n",
       "    </tr>\n",
       "    <tr>\n",
       "      <th>AGAGAGAG</th>\n",
       "      <td>8</td>\n",
       "      <td>271</td>\n",
       "    </tr>\n",
       "    <tr>\n",
       "      <th>TTTGTTTT</th>\n",
       "      <td>9</td>\n",
       "      <td>1</td>\n",
       "    </tr>\n",
       "    <tr>\n",
       "      <th>TTTTTTAA</th>\n",
       "      <td>10</td>\n",
       "      <td>4</td>\n",
       "    </tr>\n",
       "    <tr>\n",
       "      <th>TAAAAAAA</th>\n",
       "      <td>11</td>\n",
       "      <td>32</td>\n",
       "    </tr>\n",
       "    <tr>\n",
       "      <th>TTTATTTT</th>\n",
       "      <td>12</td>\n",
       "      <td>18</td>\n",
       "    </tr>\n",
       "    <tr>\n",
       "      <th>TTTTTTTA</th>\n",
       "      <td>13</td>\n",
       "      <td>9</td>\n",
       "    </tr>\n",
       "    <tr>\n",
       "      <th>ACACACAC</th>\n",
       "      <td>14</td>\n",
       "      <td>10</td>\n",
       "    </tr>\n",
       "    <tr>\n",
       "      <th>AAAAAAAT</th>\n",
       "      <td>15</td>\n",
       "      <td>34</td>\n",
       "    </tr>\n",
       "    <tr>\n",
       "      <th>TTGTTTTT</th>\n",
       "      <td>16</td>\n",
       "      <td>11</td>\n",
       "    </tr>\n",
       "    <tr>\n",
       "      <th>TAAATAAA</th>\n",
       "      <td>17</td>\n",
       "      <td>74</td>\n",
       "    </tr>\n",
       "    <tr>\n",
       "      <th>TTTAAAAA</th>\n",
       "      <td>18</td>\n",
       "      <td>17</td>\n",
       "    </tr>\n",
       "    <tr>\n",
       "      <th>TTTTTAAA</th>\n",
       "      <td>19</td>\n",
       "      <td>5</td>\n",
       "    </tr>\n",
       "  </tbody>\n",
       "</table>\n",
       "</div>"
      ],
      "text/plain": [
       "          basal_rank  apical_rank\n",
       "AAAAAAAA           0            3\n",
       "TTTTTTTT           1            0\n",
       "AGAAAGAA           2           80\n",
       "AAAGAAAG           3          152\n",
       "CACACACA           4            7\n",
       "AAGAAAGA           5          161\n",
       "GAAAGAAA           6          101\n",
       "GAGAGAGA           7          292\n",
       "AGAGAGAG           8          271\n",
       "TTTGTTTT           9            1\n",
       "TTTTTTAA          10            4\n",
       "TAAAAAAA          11           32\n",
       "TTTATTTT          12           18\n",
       "TTTTTTTA          13            9\n",
       "ACACACAC          14           10\n",
       "AAAAAAAT          15           34\n",
       "TTGTTTTT          16           11\n",
       "TAAATAAA          17           74\n",
       "TTTAAAAA          18           17\n",
       "TTTTTAAA          19            5"
      ]
     },
     "execution_count": 188,
     "metadata": {},
     "output_type": "execute_result"
    }
   ],
   "source": [
    "df_bp8_rank.head(20)"
   ]
  },
  {
   "cell_type": "code",
   "execution_count": 187,
   "id": "thrown-navigation",
   "metadata": {},
   "outputs": [
    {
     "data": {
      "text/html": [
       "<div>\n",
       "<style scoped>\n",
       "    .dataframe tbody tr th:only-of-type {\n",
       "        vertical-align: middle;\n",
       "    }\n",
       "\n",
       "    .dataframe tbody tr th {\n",
       "        vertical-align: top;\n",
       "    }\n",
       "\n",
       "    .dataframe thead th {\n",
       "        text-align: right;\n",
       "    }\n",
       "</style>\n",
       "<table border=\"1\" class=\"dataframe\">\n",
       "  <thead>\n",
       "    <tr style=\"text-align: right;\">\n",
       "      <th></th>\n",
       "      <th>basal_rank</th>\n",
       "      <th>apical_rank</th>\n",
       "    </tr>\n",
       "  </thead>\n",
       "  <tbody>\n",
       "    <tr>\n",
       "      <th>TTTTTTTT</th>\n",
       "      <td>1</td>\n",
       "      <td>0</td>\n",
       "    </tr>\n",
       "    <tr>\n",
       "      <th>TTTGTTTT</th>\n",
       "      <td>9</td>\n",
       "      <td>1</td>\n",
       "    </tr>\n",
       "    <tr>\n",
       "      <th>TTTTGTTT</th>\n",
       "      <td>28</td>\n",
       "      <td>2</td>\n",
       "    </tr>\n",
       "    <tr>\n",
       "      <th>AAAAAAAA</th>\n",
       "      <td>0</td>\n",
       "      <td>3</td>\n",
       "    </tr>\n",
       "    <tr>\n",
       "      <th>TTTTTTAA</th>\n",
       "      <td>10</td>\n",
       "      <td>4</td>\n",
       "    </tr>\n",
       "    <tr>\n",
       "      <th>TTTTTAAA</th>\n",
       "      <td>19</td>\n",
       "      <td>5</td>\n",
       "    </tr>\n",
       "    <tr>\n",
       "      <th>TTTTAAAA</th>\n",
       "      <td>30</td>\n",
       "      <td>6</td>\n",
       "    </tr>\n",
       "    <tr>\n",
       "      <th>CACACACA</th>\n",
       "      <td>4</td>\n",
       "      <td>7</td>\n",
       "    </tr>\n",
       "    <tr>\n",
       "      <th>ATTTTTTT</th>\n",
       "      <td>21</td>\n",
       "      <td>8</td>\n",
       "    </tr>\n",
       "    <tr>\n",
       "      <th>TTTTTTTA</th>\n",
       "      <td>13</td>\n",
       "      <td>9</td>\n",
       "    </tr>\n",
       "  </tbody>\n",
       "</table>\n",
       "</div>"
      ],
      "text/plain": [
       "          basal_rank  apical_rank\n",
       "TTTTTTTT           1            0\n",
       "TTTGTTTT           9            1\n",
       "TTTTGTTT          28            2\n",
       "AAAAAAAA           0            3\n",
       "TTTTTTAA          10            4\n",
       "TTTTTAAA          19            5\n",
       "TTTTAAAA          30            6\n",
       "CACACACA           4            7\n",
       "ATTTTTTT          21            8\n",
       "TTTTTTTA          13            9"
      ]
     },
     "execution_count": 187,
     "metadata": {},
     "output_type": "execute_result"
    }
   ],
   "source": [
    "df_bp8_rank.sort_values('apical_rank').head(10)"
   ]
  },
  {
   "cell_type": "code",
   "execution_count": 184,
   "id": "endless-energy",
   "metadata": {},
   "outputs": [
    {
     "data": {
      "text/plain": [
       "<AxesSubplot:>"
      ]
     },
     "execution_count": 184,
     "metadata": {},
     "output_type": "execute_result"
    },
    {
     "data": {
      "image/png": "[encoded data removed]",
      "text/plain": [
       "<Figure size 432x288 with 1 Axes>"
      ]
     },
     "metadata": {
      "needs_background": "light"
     },
     "output_type": "display_data"
    }
   ],
   "source": [
    "bp_grp_basal[8].sort_values('bp_8',ascending=False).plot()"
   ]
  },
  {
   "cell_type": "code",
   "execution_count": 186,
   "id": "compact-conditions",
   "metadata": {},
   "outputs": [
    {
     "data": {
      "text/plain": [
       "<AxesSubplot:>"
      ]
     },
     "execution_count": 186,
     "metadata": {},
     "output_type": "execute_result"
    },
    {
     "data": {
      "image/png": "[encoded data removed]",
      "text/plain": [
       "<Figure size 432x288 with 1 Axes>"
      ]
     },
     "metadata": {
      "needs_background": "light"
     },
     "output_type": "display_data"
    }
   ],
   "source": [
    "df_temp2['bp_8'].plot()"
   ]
  }
 ],
 "metadata": {
  "kernelspec": {
   "display_name": "Python 3",
   "language": "python",
   "name": "python3"
  },
  "language_info": {
   "codemirror_mode": {
    "name": "ipython",
    "version": 3
   },
   "file_extension": ".py",
   "mimetype": "text/x-python",
   "name": "python",
   "nbconvert_exporter": "python",
   "pygments_lexer": "ipython3",
   "version": "3.8.3"
  }
 },
 "nbformat": 4,
 "nbformat_minor": 5
}
