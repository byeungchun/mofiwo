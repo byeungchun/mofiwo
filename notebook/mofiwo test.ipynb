{
 "cells": [
  {
   "cell_type": "code",
   "execution_count": 1,
   "id": "innovative-harvey",
   "metadata": {},
   "outputs": [],
   "source": [
    "%load_ext autoreload\n",
    "%autoreload 2"
   ]
  },
  {
   "cell_type": "code",
   "execution_count": 2,
   "id": "increasing-devon",
   "metadata": {},
   "outputs": [],
   "source": [
    "import os\n",
    "import warnings"
   ]
  },
  {
   "cell_type": "code",
   "execution_count": 3,
   "id": "electoral-beach",
   "metadata": {},
   "outputs": [],
   "source": [
    "warnings.filterwarnings('ignore')"
   ]
  },
  {
   "cell_type": "code",
   "execution_count": 4,
   "id": "oriental-respect",
   "metadata": {},
   "outputs": [],
   "source": [
    "os.chdir('..')"
   ]
  },
  {
   "cell_type": "code",
   "execution_count": 17,
   "id": "defensive-photographer",
   "metadata": {},
   "outputs": [],
   "source": [
    "import requests\n",
    "from Bio import SeqIO\n",
    "from mofiwo.connector.ensembl import read_ensembl"
   ]
  },
  {
   "cell_type": "code",
   "execution_count": 6,
   "id": "lesbian-spending",
   "metadata": {},
   "outputs": [],
   "source": [
    "ret_esm = read_ensembl('ENSMUST00000037811', req_param={'type':'cds'})"
   ]
  },
  {
   "cell_type": "code",
   "execution_count": 7,
   "id": "fifth-copyright",
   "metadata": {},
   "outputs": [],
   "source": [
    "from mofiwo.utility.rna_handler import load_rna_fasta_zipfile"
   ]
  },
  {
   "cell_type": "code",
   "execution_count": 8,
   "id": "actual-windsor",
   "metadata": {},
   "outputs": [],
   "source": [
    "fasta_cds_zipfile = r'D:\\workspace\\rnamotif\\samples\\s1_cds.zip'\n",
    "fasta_cdna_zipfile = r'D:\\workspace\\rnamotif\\samples\\s1_cdna.zip'\n",
    "#fasta_zipfile = r'C:/Users/byeun/Downloads/s1_cds.zip'"
   ]
  },
  {
   "cell_type": "code",
   "execution_count": 9,
   "id": "automatic-valuation",
   "metadata": {},
   "outputs": [],
   "source": [
    "dic_cds = load_rna_fasta_zipfile(fasta_cds_zipfile)\n",
    "dic_cdna = load_rna_fasta_zipfile(fasta_cdna_zipfile)"
   ]
  },
  {
   "cell_type": "code",
   "execution_count": 10,
   "id": "solid-timeline",
   "metadata": {},
   "outputs": [],
   "source": [
    "from mofiwo.utility.rna_handler import generate_3utr_from_cdna_cds"
   ]
  },
  {
   "cell_type": "code",
   "execution_count": null,
   "id": "choice-arrangement",
   "metadata": {},
   "outputs": [],
   "source": [
    "dic_utr3 = generate_3utr_from_cdna_cds(dic_cdna, dic_cds)"
   ]
  },
  {
   "cell_type": "code",
   "execution_count": 16,
   "id": "indie-oracle",
   "metadata": {},
   "outputs": [],
   "source": [
    "foo = dic_utr3[next(iter(dic_utr3))]"
   ]
  },
  {
   "cell_type": "code",
   "execution_count": 20,
   "id": "revolutionary-latin",
   "metadata": {},
   "outputs": [
    {
     "data": {
      "text/plain": [
       "1"
      ]
     },
     "execution_count": 20,
     "metadata": {},
     "output_type": "execute_result"
    }
   ],
   "source": [
    "SeqIO.write(foo, r'../fasta_file_example.fasta', 'fasta')"
   ]
  },
  {
   "cell_type": "code",
   "execution_count": 21,
   "id": "level-trauma",
   "metadata": {},
   "outputs": [],
   "source": [
    "from Bio.motifs import meme"
   ]
  },
  {
   "cell_type": "code",
   "execution_count": 22,
   "id": "north-public",
   "metadata": {},
   "outputs": [],
   "source": [
    "with open(r'C:\\Users\\by003457\\Downloads\\meme.xml') as fin:\n",
    "    records = meme.read(fin)"
   ]
  },
  {
   "cell_type": "code",
   "execution_count": 23,
   "id": "visible-reduction",
   "metadata": {},
   "outputs": [],
   "source": [
    "motifs = [x for x in records]"
   ]
  },
  {
   "cell_type": "code",
   "execution_count": 26,
   "id": "wooden-details",
   "metadata": {},
   "outputs": [],
   "source": [
    "motif = motifs[0]"
   ]
  },
  {
   "cell_type": "code",
   "execution_count": 29,
   "id": "civilian-thumbnail",
   "metadata": {},
   "outputs": [
    {
     "data": {
      "text/plain": [
       "'WWKVTTTTTWTKTTTKTTTKTKTKTKTKTTTDTWTNTDTKW'"
      ]
     },
     "execution_count": 29,
     "metadata": {},
     "output_type": "execute_result"
    }
   ],
   "source": [
    "motif.name"
   ]
  },
  {
   "cell_type": "code",
   "execution_count": 35,
   "id": "pursuant-casino",
   "metadata": {},
   "outputs": [],
   "source": [
    "from selenium.webdriver import Chrome\n",
    "from selenium.webdriver.chrome.options import Options"
   ]
  },
  {
   "cell_type": "code",
   "execution_count": 36,
   "id": "organized-quarterly",
   "metadata": {},
   "outputs": [],
   "source": [
    "opts = Options()\n",
    "opts.set_headless()"
   ]
  },
  {
   "cell_type": "code",
   "execution_count": 39,
   "id": "handy-termination",
   "metadata": {},
   "outputs": [],
   "source": [
    "browser = Chrome(r'D:\\tools\\chromedriver_win32_v88\\chromedriver.exe',options=opts)"
   ]
  },
  {
   "cell_type": "code",
   "execution_count": 40,
   "id": "defensive-analyst",
   "metadata": {},
   "outputs": [
    {
     "ename": "WebDriverException",
     "evalue": "Message: unknown error: net::ERR_SSL_PROTOCOL_ERROR\n  (Session info: headless chrome=88.0.4324.190)\n",
     "output_type": "error",
     "traceback": [
      "\u001b[1;31m---------------------------------------------------------------------------\u001b[0m",
      "\u001b[1;31mWebDriverException\u001b[0m                        Traceback (most recent call last)",
      "\u001b[1;32m<ipython-input-40-a824eb359b1e>\u001b[0m in \u001b[0;36m<module>\u001b[1;34m\u001b[0m\n\u001b[1;32m----> 1\u001b[1;33m \u001b[0mbrowser\u001b[0m\u001b[1;33m.\u001b[0m\u001b[0mget\u001b[0m\u001b[1;33m(\u001b[0m\u001b[1;34m'https://duckdukgo.com'\u001b[0m\u001b[1;33m)\u001b[0m\u001b[1;33m\u001b[0m\u001b[1;33m\u001b[0m\u001b[0m\n\u001b[0m",
      "\u001b[1;32mc:\\users\\by003457\\envs\\mofiwo\\lib\\site-packages\\selenium\\webdriver\\remote\\webdriver.py\u001b[0m in \u001b[0;36mget\u001b[1;34m(self, url)\u001b[0m\n\u001b[0;32m    331\u001b[0m         \u001b[0mLoads\u001b[0m \u001b[0ma\u001b[0m \u001b[0mweb\u001b[0m \u001b[0mpage\u001b[0m \u001b[1;32min\u001b[0m \u001b[0mthe\u001b[0m \u001b[0mcurrent\u001b[0m \u001b[0mbrowser\u001b[0m \u001b[0msession\u001b[0m\u001b[1;33m.\u001b[0m\u001b[1;33m\u001b[0m\u001b[1;33m\u001b[0m\u001b[0m\n\u001b[0;32m    332\u001b[0m         \"\"\"\n\u001b[1;32m--> 333\u001b[1;33m         \u001b[0mself\u001b[0m\u001b[1;33m.\u001b[0m\u001b[0mexecute\u001b[0m\u001b[1;33m(\u001b[0m\u001b[0mCommand\u001b[0m\u001b[1;33m.\u001b[0m\u001b[0mGET\u001b[0m\u001b[1;33m,\u001b[0m \u001b[1;33m{\u001b[0m\u001b[1;34m'url'\u001b[0m\u001b[1;33m:\u001b[0m \u001b[0murl\u001b[0m\u001b[1;33m}\u001b[0m\u001b[1;33m)\u001b[0m\u001b[1;33m\u001b[0m\u001b[1;33m\u001b[0m\u001b[0m\n\u001b[0m\u001b[0;32m    334\u001b[0m \u001b[1;33m\u001b[0m\u001b[0m\n\u001b[0;32m    335\u001b[0m     \u001b[1;33m@\u001b[0m\u001b[0mproperty\u001b[0m\u001b[1;33m\u001b[0m\u001b[1;33m\u001b[0m\u001b[0m\n",
      "\u001b[1;32mc:\\users\\by003457\\envs\\mofiwo\\lib\\site-packages\\selenium\\webdriver\\remote\\webdriver.py\u001b[0m in \u001b[0;36mexecute\u001b[1;34m(self, driver_command, params)\u001b[0m\n\u001b[0;32m    319\u001b[0m         \u001b[0mresponse\u001b[0m \u001b[1;33m=\u001b[0m \u001b[0mself\u001b[0m\u001b[1;33m.\u001b[0m\u001b[0mcommand_executor\u001b[0m\u001b[1;33m.\u001b[0m\u001b[0mexecute\u001b[0m\u001b[1;33m(\u001b[0m\u001b[0mdriver_command\u001b[0m\u001b[1;33m,\u001b[0m \u001b[0mparams\u001b[0m\u001b[1;33m)\u001b[0m\u001b[1;33m\u001b[0m\u001b[1;33m\u001b[0m\u001b[0m\n\u001b[0;32m    320\u001b[0m         \u001b[1;32mif\u001b[0m \u001b[0mresponse\u001b[0m\u001b[1;33m:\u001b[0m\u001b[1;33m\u001b[0m\u001b[1;33m\u001b[0m\u001b[0m\n\u001b[1;32m--> 321\u001b[1;33m             \u001b[0mself\u001b[0m\u001b[1;33m.\u001b[0m\u001b[0merror_handler\u001b[0m\u001b[1;33m.\u001b[0m\u001b[0mcheck_response\u001b[0m\u001b[1;33m(\u001b[0m\u001b[0mresponse\u001b[0m\u001b[1;33m)\u001b[0m\u001b[1;33m\u001b[0m\u001b[1;33m\u001b[0m\u001b[0m\n\u001b[0m\u001b[0;32m    322\u001b[0m             response['value'] = self._unwrap_value(\n\u001b[0;32m    323\u001b[0m                 response.get('value', None))\n",
      "\u001b[1;32mc:\\users\\by003457\\envs\\mofiwo\\lib\\site-packages\\selenium\\webdriver\\remote\\errorhandler.py\u001b[0m in \u001b[0;36mcheck_response\u001b[1;34m(self, response)\u001b[0m\n\u001b[0;32m    240\u001b[0m                 \u001b[0malert_text\u001b[0m \u001b[1;33m=\u001b[0m \u001b[0mvalue\u001b[0m\u001b[1;33m[\u001b[0m\u001b[1;34m'alert'\u001b[0m\u001b[1;33m]\u001b[0m\u001b[1;33m.\u001b[0m\u001b[0mget\u001b[0m\u001b[1;33m(\u001b[0m\u001b[1;34m'text'\u001b[0m\u001b[1;33m)\u001b[0m\u001b[1;33m\u001b[0m\u001b[1;33m\u001b[0m\u001b[0m\n\u001b[0;32m    241\u001b[0m             \u001b[1;32mraise\u001b[0m \u001b[0mexception_class\u001b[0m\u001b[1;33m(\u001b[0m\u001b[0mmessage\u001b[0m\u001b[1;33m,\u001b[0m \u001b[0mscreen\u001b[0m\u001b[1;33m,\u001b[0m \u001b[0mstacktrace\u001b[0m\u001b[1;33m,\u001b[0m \u001b[0malert_text\u001b[0m\u001b[1;33m)\u001b[0m\u001b[1;33m\u001b[0m\u001b[1;33m\u001b[0m\u001b[0m\n\u001b[1;32m--> 242\u001b[1;33m         \u001b[1;32mraise\u001b[0m \u001b[0mexception_class\u001b[0m\u001b[1;33m(\u001b[0m\u001b[0mmessage\u001b[0m\u001b[1;33m,\u001b[0m \u001b[0mscreen\u001b[0m\u001b[1;33m,\u001b[0m \u001b[0mstacktrace\u001b[0m\u001b[1;33m)\u001b[0m\u001b[1;33m\u001b[0m\u001b[1;33m\u001b[0m\u001b[0m\n\u001b[0m\u001b[0;32m    243\u001b[0m \u001b[1;33m\u001b[0m\u001b[0m\n\u001b[0;32m    244\u001b[0m     \u001b[1;32mdef\u001b[0m \u001b[0m_value_or_default\u001b[0m\u001b[1;33m(\u001b[0m\u001b[0mself\u001b[0m\u001b[1;33m,\u001b[0m \u001b[0mobj\u001b[0m\u001b[1;33m,\u001b[0m \u001b[0mkey\u001b[0m\u001b[1;33m,\u001b[0m \u001b[0mdefault\u001b[0m\u001b[1;33m)\u001b[0m\u001b[1;33m:\u001b[0m\u001b[1;33m\u001b[0m\u001b[1;33m\u001b[0m\u001b[0m\n",
      "\u001b[1;31mWebDriverException\u001b[0m: Message: unknown error: net::ERR_SSL_PROTOCOL_ERROR\n  (Session info: headless chrome=88.0.4324.190)\n"
     ]
    }
   ],
   "source": [
    "browser.get('https://duckdukgo.com')"
   ]
  },
  {
   "cell_type": "code",
   "execution_count": null,
   "id": "pressed-recording",
   "metadata": {},
   "outputs": [],
   "source": []
  }
 ],
 "metadata": {
  "kernelspec": {
   "display_name": "Python 3",
   "language": "python",
   "name": "python3"
  },
  "language_info": {
   "codemirror_mode": {
    "name": "ipython",
    "version": 3
   },
   "file_extension": ".py",
   "mimetype": "text/x-python",
   "name": "python",
   "nbconvert_exporter": "python",
   "pygments_lexer": "ipython3",
   "version": "3.8.3"
  }
 },
 "nbformat": 4,
 "nbformat_minor": 5
}
