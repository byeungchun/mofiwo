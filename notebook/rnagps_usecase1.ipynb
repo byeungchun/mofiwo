{
 "cells": [
  {
   "cell_type": "code",
   "execution_count": 1,
   "id": "exciting-shield",
   "metadata": {},
   "outputs": [],
   "source": [
    "%load_ext autoreload\n",
    "%autoreload 2"
   ]
  },
  {
   "cell_type": "code",
   "execution_count": 2,
   "id": "stopped-gabriel",
   "metadata": {},
   "outputs": [],
   "source": [
    "import os\n",
    "os.chdir('..')"
   ]
  },
  {
   "cell_type": "code",
   "execution_count": 3,
   "id": "peripheral-article",
   "metadata": {},
   "outputs": [],
   "source": [
    "from Bio import SeqIO"
   ]
  },
  {
   "cell_type": "code",
   "execution_count": 4,
   "id": "married-example",
   "metadata": {},
   "outputs": [],
   "source": [
    "import re\n",
    "import random\n",
    "import numpy as np\n",
    "import pandas as pd\n",
    "from itertools import product\n",
    "from mofiwo.utility import generate_utr_from_cdna_cds, load_rna_fasta_zipfile\n",
    "from mofiwo.analysis import generate_k_mer, generate_feature_by_kmer_loc"
   ]
  },
  {
   "cell_type": "code",
   "execution_count": 7,
   "id": "dental-polymer",
   "metadata": {},
   "outputs": [],
   "source": [
    "zip_cdna = r'D:\\workspace\\rnamotif\\samples\\s1_cdna.zip'\n",
    "zip_cds = r'D:\\workspace\\rnamotif\\samples\\s1_cds.zip'"
   ]
  },
  {
   "cell_type": "code",
   "execution_count": 8,
   "id": "alternative-banner",
   "metadata": {},
   "outputs": [],
   "source": [
    "dic_cdna = load_rna_fasta_zipfile(zip_cdna)\n",
    "dic_cds = load_rna_fasta_zipfile(zip_cds)"
   ]
  },
  {
   "cell_type": "code",
   "execution_count": null,
   "id": "divided-immunology",
   "metadata": {},
   "outputs": [],
   "source": [
    "dic_utr = generate_utr_from_cdna_cds(dic_cdna, dic_cds)"
   ]
  },
  {
   "cell_type": "code",
   "execution_count": 10,
   "id": "multiple-trunk",
   "metadata": {},
   "outputs": [],
   "source": [
    "dic_seq = dict()\n",
    "for k,v in dic_utr.items():\n",
    "    dic_seq.update({k: {'CDS': dic_cds[k].seq, 'UT3': v['utr3'], 'UT5': v['utr5']}})"
   ]
  },
  {
   "cell_type": "code",
   "execution_count": null,
   "id": "boxed-orientation",
   "metadata": {},
   "outputs": [],
   "source": [
    "ret = generate_feature_by_kmer_loc(dic_seq, need_log=True)"
   ]
  },
  {
   "cell_type": "code",
   "execution_count": 13,
   "id": "inside-acrylic",
   "metadata": {},
   "outputs": [],
   "source": [
    "df = pd.DataFrame(ret)"
   ]
  },
  {
   "cell_type": "code",
   "execution_count": 15,
   "id": "productive-catholic",
   "metadata": {},
   "outputs": [
    {
     "data": {
      "text/html": [
       "<div>\n",
       "<style scoped>\n",
       "    .dataframe tbody tr th:only-of-type {\n",
       "        vertical-align: middle;\n",
       "    }\n",
       "\n",
       "    .dataframe tbody tr th {\n",
       "        vertical-align: top;\n",
       "    }\n",
       "\n",
       "    .dataframe thead th {\n",
       "        text-align: right;\n",
       "    }\n",
       "</style>\n",
       "<table border=\"1\" class=\"dataframe\">\n",
       "  <thead>\n",
       "    <tr style=\"text-align: right;\">\n",
       "      <th></th>\n",
       "      <th>ENSMUST00000034460</th>\n",
       "      <th>ENSMUST00000045312</th>\n",
       "      <th>ENSMUST00000034564</th>\n",
       "      <th>ENSMUST00000045540</th>\n",
       "      <th>ENSMUST00000068519</th>\n",
       "      <th>ENSMUST00000026608</th>\n",
       "      <th>ENSMUST00000036331</th>\n",
       "      <th>ENSMUST00000105894</th>\n",
       "      <th>ENSMUST00000164099</th>\n",
       "      <th>ENSMUST00000029777</th>\n",
       "      <th>...</th>\n",
       "      <th>ENSMUST00000190279</th>\n",
       "      <th>ENSMUST00000129507</th>\n",
       "      <th>ENSMUST00000039174</th>\n",
       "      <th>ENSMUST00000178808</th>\n",
       "      <th>ENSMUST00000039796</th>\n",
       "      <th>ENSMUST00000111326</th>\n",
       "      <th>ENSMUST00000166411</th>\n",
       "      <th>ENSMUST00000113337</th>\n",
       "      <th>ENSMUST00000049031</th>\n",
       "      <th>ENSMUST00000027252</th>\n",
       "    </tr>\n",
       "  </thead>\n",
       "  <tbody>\n",
       "    <tr>\n",
       "      <th>CDS_AAA</th>\n",
       "      <td>0.010698</td>\n",
       "      <td>0.023049</td>\n",
       "      <td>0.021798</td>\n",
       "      <td>0.006540</td>\n",
       "      <td>0.012528</td>\n",
       "      <td>0.013730</td>\n",
       "      <td>0.005752</td>\n",
       "      <td>0.006948</td>\n",
       "      <td>0.010989</td>\n",
       "      <td>0.012376</td>\n",
       "      <td>...</td>\n",
       "      <td>0.008969</td>\n",
       "      <td>0.004975</td>\n",
       "      <td>0.015688</td>\n",
       "      <td>0.009294</td>\n",
       "      <td>0.004261</td>\n",
       "      <td>0.004975</td>\n",
       "      <td>0.050336</td>\n",
       "      <td>0.012921</td>\n",
       "      <td>0.018857</td>\n",
       "      <td>0.037887</td>\n",
       "    </tr>\n",
       "    <tr>\n",
       "      <th>CDS_AAT</th>\n",
       "      <td>0.008372</td>\n",
       "      <td>0.015551</td>\n",
       "      <td>0.010899</td>\n",
       "      <td>0.005351</td>\n",
       "      <td>0.003417</td>\n",
       "      <td>0.009153</td>\n",
       "      <td>0.004108</td>\n",
       "      <td>0.005095</td>\n",
       "      <td>0.007212</td>\n",
       "      <td>0.014851</td>\n",
       "      <td>...</td>\n",
       "      <td>0.000000</td>\n",
       "      <td>0.003554</td>\n",
       "      <td>0.010459</td>\n",
       "      <td>0.013011</td>\n",
       "      <td>0.002841</td>\n",
       "      <td>0.007463</td>\n",
       "      <td>0.030201</td>\n",
       "      <td>0.008810</td>\n",
       "      <td>0.016571</td>\n",
       "      <td>0.018083</td>\n",
       "    </tr>\n",
       "    <tr>\n",
       "      <th>CDS_AAC</th>\n",
       "      <td>0.010698</td>\n",
       "      <td>0.018884</td>\n",
       "      <td>0.027248</td>\n",
       "      <td>0.009512</td>\n",
       "      <td>0.007973</td>\n",
       "      <td>0.022883</td>\n",
       "      <td>0.014790</td>\n",
       "      <td>0.006948</td>\n",
       "      <td>0.010989</td>\n",
       "      <td>0.016089</td>\n",
       "      <td>...</td>\n",
       "      <td>0.017937</td>\n",
       "      <td>0.007107</td>\n",
       "      <td>0.020113</td>\n",
       "      <td>0.011152</td>\n",
       "      <td>0.011364</td>\n",
       "      <td>0.008706</td>\n",
       "      <td>0.015101</td>\n",
       "      <td>0.012138</td>\n",
       "      <td>0.015429</td>\n",
       "      <td>0.013490</td>\n",
       "    </tr>\n",
       "    <tr>\n",
       "      <th>CDS_AAG</th>\n",
       "      <td>0.028372</td>\n",
       "      <td>0.046931</td>\n",
       "      <td>0.019074</td>\n",
       "      <td>0.014863</td>\n",
       "      <td>0.022779</td>\n",
       "      <td>0.038902</td>\n",
       "      <td>0.021364</td>\n",
       "      <td>0.028254</td>\n",
       "      <td>0.023352</td>\n",
       "      <td>0.021040</td>\n",
       "      <td>...</td>\n",
       "      <td>0.026906</td>\n",
       "      <td>0.012082</td>\n",
       "      <td>0.026549</td>\n",
       "      <td>0.026022</td>\n",
       "      <td>0.011364</td>\n",
       "      <td>0.016169</td>\n",
       "      <td>0.057886</td>\n",
       "      <td>0.026821</td>\n",
       "      <td>0.019429</td>\n",
       "      <td>0.058840</td>\n",
       "    </tr>\n",
       "    <tr>\n",
       "      <th>CDS_ATA</th>\n",
       "      <td>0.005581</td>\n",
       "      <td>0.006387</td>\n",
       "      <td>0.000000</td>\n",
       "      <td>0.002973</td>\n",
       "      <td>0.007973</td>\n",
       "      <td>0.006865</td>\n",
       "      <td>0.002465</td>\n",
       "      <td>0.005095</td>\n",
       "      <td>0.004121</td>\n",
       "      <td>0.014851</td>\n",
       "      <td>...</td>\n",
       "      <td>0.008969</td>\n",
       "      <td>0.000711</td>\n",
       "      <td>0.003218</td>\n",
       "      <td>0.009294</td>\n",
       "      <td>0.004261</td>\n",
       "      <td>0.006219</td>\n",
       "      <td>0.013423</td>\n",
       "      <td>0.007048</td>\n",
       "      <td>0.009143</td>\n",
       "      <td>0.010620</td>\n",
       "    </tr>\n",
       "  </tbody>\n",
       "</table>\n",
       "<p>5 rows × 7252 columns</p>\n",
       "</div>"
      ],
      "text/plain": [
       "         ENSMUST00000034460  ENSMUST00000045312  ENSMUST00000034564  \\\n",
       "CDS_AAA            0.010698            0.023049            0.021798   \n",
       "CDS_AAT            0.008372            0.015551            0.010899   \n",
       "CDS_AAC            0.010698            0.018884            0.027248   \n",
       "CDS_AAG            0.028372            0.046931            0.019074   \n",
       "CDS_ATA            0.005581            0.006387            0.000000   \n",
       "\n",
       "         ENSMUST00000045540  ENSMUST00000068519  ENSMUST00000026608  \\\n",
       "CDS_AAA            0.006540            0.012528            0.013730   \n",
       "CDS_AAT            0.005351            0.003417            0.009153   \n",
       "CDS_AAC            0.009512            0.007973            0.022883   \n",
       "CDS_AAG            0.014863            0.022779            0.038902   \n",
       "CDS_ATA            0.002973            0.007973            0.006865   \n",
       "\n",
       "         ENSMUST00000036331  ENSMUST00000105894  ENSMUST00000164099  \\\n",
       "CDS_AAA            0.005752            0.006948            0.010989   \n",
       "CDS_AAT            0.004108            0.005095            0.007212   \n",
       "CDS_AAC            0.014790            0.006948            0.010989   \n",
       "CDS_AAG            0.021364            0.028254            0.023352   \n",
       "CDS_ATA            0.002465            0.005095            0.004121   \n",
       "\n",
       "         ENSMUST00000029777  ...  ENSMUST00000190279  ENSMUST00000129507  \\\n",
       "CDS_AAA            0.012376  ...            0.008969            0.004975   \n",
       "CDS_AAT            0.014851  ...            0.000000            0.003554   \n",
       "CDS_AAC            0.016089  ...            0.017937            0.007107   \n",
       "CDS_AAG            0.021040  ...            0.026906            0.012082   \n",
       "CDS_ATA            0.014851  ...            0.008969            0.000711   \n",
       "\n",
       "         ENSMUST00000039174  ENSMUST00000178808  ENSMUST00000039796  \\\n",
       "CDS_AAA            0.015688            0.009294            0.004261   \n",
       "CDS_AAT            0.010459            0.013011            0.002841   \n",
       "CDS_AAC            0.020113            0.011152            0.011364   \n",
       "CDS_AAG            0.026549            0.026022            0.011364   \n",
       "CDS_ATA            0.003218            0.009294            0.004261   \n",
       "\n",
       "         ENSMUST00000111326  ENSMUST00000166411  ENSMUST00000113337  \\\n",
       "CDS_AAA            0.004975            0.050336            0.012921   \n",
       "CDS_AAT            0.007463            0.030201            0.008810   \n",
       "CDS_AAC            0.008706            0.015101            0.012138   \n",
       "CDS_AAG            0.016169            0.057886            0.026821   \n",
       "CDS_ATA            0.006219            0.013423            0.007048   \n",
       "\n",
       "         ENSMUST00000049031  ENSMUST00000027252  \n",
       "CDS_AAA            0.018857            0.037887  \n",
       "CDS_AAT            0.016571            0.018083  \n",
       "CDS_AAC            0.015429            0.013490  \n",
       "CDS_AAG            0.019429            0.058840  \n",
       "CDS_ATA            0.009143            0.010620  \n",
       "\n",
       "[5 rows x 7252 columns]"
      ]
     },
     "execution_count": 15,
     "metadata": {},
     "output_type": "execute_result"
    }
   ],
   "source": [
    "df.head()"
   ]
  },
  {
   "cell_type": "code",
   "execution_count": 93,
   "id": "alternative-wound",
   "metadata": {},
   "outputs": [],
   "source": [
    "df.to_parquet('./notebook/feature_intestine.gzip.parquet',compression='gzip')"
   ]
  },
  {
   "cell_type": "code",
   "execution_count": 5,
   "id": "comparable-island",
   "metadata": {},
   "outputs": [],
   "source": [
    "df= pd.read_parquet('./notebook/feature_intestine.gzip.parquet')"
   ]
  },
  {
   "cell_type": "code",
   "execution_count": 158,
   "id": "theoretical-sector",
   "metadata": {},
   "outputs": [],
   "source": [
    "df.fillna(0.0,inplace=True)"
   ]
  },
  {
   "cell_type": "code",
   "execution_count": 7,
   "id": "increasing-spokesman",
   "metadata": {},
   "outputs": [],
   "source": [
    "df_s1 = pd.read_excel(r'D:/workspace/rnamotif/samples/aan2399_table_S1.xlsx')"
   ]
  },
  {
   "cell_type": "code",
   "execution_count": 106,
   "id": "legendary-tomato",
   "metadata": {},
   "outputs": [],
   "source": [
    "df_s1 = df_s1[df_s1.target_id.isin(list(df.columns))]"
   ]
  },
  {
   "cell_type": "code",
   "execution_count": 194,
   "id": "hollywood-error",
   "metadata": {},
   "outputs": [],
   "source": [
    "cols_all = list(df_s1[(df_s1.mean_obs > 3.5) & (df_s1.qval < 0.2)].target_id)\n",
    "cols = [cols_all[x] for x in random.sample(range(len(cols_all)), 50)]"
   ]
  },
  {
   "cell_type": "code",
   "execution_count": 196,
   "id": "introductory-justice",
   "metadata": {},
   "outputs": [],
   "source": [
    "df_y = {x: float(df_s1[df_s1.target_id == x].b) for x in cols}\n",
    "df_y = pd.DataFrame(df_y, index=[0])"
   ]
  },
  {
   "cell_type": "code",
   "execution_count": 198,
   "id": "gross-placement",
   "metadata": {},
   "outputs": [],
   "source": [
    "df_x = df[cols]"
   ]
  },
  {
   "cell_type": "code",
   "execution_count": 199,
   "id": "indirect-cradle",
   "metadata": {},
   "outputs": [],
   "source": [
    "num_test = int(len(cols) * 0.1)\n",
    "col_train = [cols[x] for x in random.sample(range(len(cols)),len(cols)-num_test)]\n",
    "col_test = [x for x in cols if x not in col_train]"
   ]
  },
  {
   "cell_type": "code",
   "execution_count": 257,
   "id": "cheap-insight",
   "metadata": {},
   "outputs": [],
   "source": [
    "arr_x_train = df[col_train].to_numpy().transpose()\n",
    "arr_y_train = df_y[col_train].to_numpy()[0]\n",
    "\n",
    "arr_x_test = df[col_test].to_numpy().transpose()\n",
    "arr_y_test = df_y[col_test].to_numpy()[0]"
   ]
  },
  {
   "cell_type": "code",
   "execution_count": 252,
   "id": "actual-checklist",
   "metadata": {},
   "outputs": [],
   "source": [
    "from sklearn import linear_model\n",
    "from sklearn import svm\n",
    "from sklearn.ensemble import RandomForestClassifier\n",
    "from sklearn.neural_network import MLPRegressor"
   ]
  },
  {
   "cell_type": "code",
   "execution_count": 264,
   "id": "geographic-lending",
   "metadata": {},
   "outputs": [],
   "source": [
    "#clf = svm.SVR() # RandomForestClassifier(n_estimators=10)\n",
    "clf = MLPRegressor(random_state=1, max_iter=400)"
   ]
  },
  {
   "cell_type": "code",
   "execution_count": 265,
   "id": "meaning-jesus",
   "metadata": {},
   "outputs": [
    {
     "data": {
      "text/plain": [
       "MLPRegressor(max_iter=400, random_state=1)"
      ]
     },
     "execution_count": 265,
     "metadata": {},
     "output_type": "execute_result"
    }
   ],
   "source": [
    "clf.fit(arr_x_train, arr_y_train)"
   ]
  },
  {
   "cell_type": "code",
   "execution_count": 266,
   "id": "according-plenty",
   "metadata": {},
   "outputs": [
    {
     "data": {
      "text/plain": [
       "array([ 0.16340888,  0.75119252,  0.94141605, -0.04745657,  0.80033402])"
      ]
     },
     "execution_count": 266,
     "metadata": {},
     "output_type": "execute_result"
    }
   ],
   "source": [
    "clf.predict(arr_x_test)"
   ]
  },
  {
   "cell_type": "code",
   "execution_count": 267,
   "id": "expressed-traffic",
   "metadata": {},
   "outputs": [
    {
     "data": {
      "text/plain": [
       "array([ 0.64868073,  1.37995799, -0.9906175 , -0.83406619,  0.54300929])"
      ]
     },
     "execution_count": 267,
     "metadata": {},
     "output_type": "execute_result"
    }
   ],
   "source": [
    "arr_y_test"
   ]
  },
  {
   "cell_type": "code",
   "execution_count": 262,
   "id": "ecological-restoration",
   "metadata": {},
   "outputs": [
    {
     "data": {
      "text/plain": [
       "(5, 4032)"
      ]
     },
     "execution_count": 262,
     "metadata": {},
     "output_type": "execute_result"
    }
   ],
   "source": [
    "arr_x_test.shape"
   ]
  },
  {
   "cell_type": "code",
   "execution_count": 263,
   "id": "million-labor",
   "metadata": {},
   "outputs": [
    {
     "data": {
      "text/plain": [
       "array([[0.00431965, 0.01079914, 0.00215983, ..., 0.        , 0.02040816,\n",
       "        0.        ],\n",
       "       [0.01578073, 0.0166113 , 0.01453488, ..., 0.        , 0.        ,\n",
       "        0.        ],\n",
       "       [0.01318681, 0.01483516, 0.01648352, ..., 0.        , 0.        ,\n",
       "        0.        ],\n",
       "       [0.00605327, 0.00786925, 0.01029056, ..., 0.        , 0.        ,\n",
       "        0.        ],\n",
       "       [0.01064396, 0.01224055, 0.01756253, ..., 0.        , 0.        ,\n",
       "        0.        ]])"
      ]
     },
     "execution_count": 263,
     "metadata": {},
     "output_type": "execute_result"
    }
   ],
   "source": [
    "arr_x_test"
   ]
  },
  {
   "cell_type": "code",
   "execution_count": null,
   "id": "greenhouse-halloween",
   "metadata": {},
   "outputs": [],
   "source": []
  }
 ],
 "metadata": {
  "kernelspec": {
   "display_name": "Python 3",
   "language": "python",
   "name": "python3"
  },
  "language_info": {
   "codemirror_mode": {
    "name": "ipython",
    "version": 3
   },
   "file_extension": ".py",
   "mimetype": "text/x-python",
   "name": "python",
   "nbconvert_exporter": "python",
   "pygments_lexer": "ipython3",
   "version": "3.8.3"
  }
 },
 "nbformat": 4,
 "nbformat_minor": 5
}
