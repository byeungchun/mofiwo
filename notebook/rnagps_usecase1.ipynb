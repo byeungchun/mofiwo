{
 "cells": [
  {
   "cell_type": "code",
   "execution_count": 1,
   "id": "exciting-shield",
   "metadata": {},
   "outputs": [],
   "source": [
    "%load_ext autoreload\n",
    "%autoreload 2"
   ]
  },
  {
   "cell_type": "code",
   "execution_count": 2,
   "id": "stopped-gabriel",
   "metadata": {},
   "outputs": [],
   "source": [
    "import os\n",
    "os.chdir('..')"
   ]
  },
  {
   "cell_type": "code",
   "execution_count": 3,
   "id": "peripheral-article",
   "metadata": {},
   "outputs": [],
   "source": [
    "from Bio import SeqIO"
   ]
  },
  {
   "cell_type": "code",
   "execution_count": 4,
   "id": "married-example",
   "metadata": {},
   "outputs": [],
   "source": [
    "import re\n",
    "import random\n",
    "import numpy as np\n",
    "import pandas as pd\n",
    "from itertools import product\n",
    "from mofiwo.utility import generate_utr_from_cdna_cds, load_rna_fasta_zipfile\n",
    "from mofiwo.analysis import generate_k_mer, generate_feature_by_kmer_loc"
   ]
  },
  {
   "cell_type": "code",
   "execution_count": 18,
   "id": "5e53695b",
   "metadata": {},
   "outputs": [],
   "source": [
    "from sklearn import linear_model\n",
    "from sklearn import svm\n",
    "from sklearn import metrics\n",
    "from sklearn.model_selection import train_test_split\n",
    "from sklearn.ensemble import RandomForestClassifier\n",
    "from sklearn.neural_network import MLPRegressor\n",
    "from sklearn.ensemble import RandomForestRegressor\n",
    "from sklearn.metrics import classification_report, confusion_matrix, accuracy_score"
   ]
  },
  {
   "cell_type": "code",
   "execution_count": 6,
   "id": "189d1635",
   "metadata": {},
   "outputs": [],
   "source": [
    "_folder = r'C:\\Users\\by003457\\workspace\\rnamotif\\samples'"
   ]
  },
  {
   "cell_type": "code",
   "execution_count": 7,
   "id": "dental-polymer",
   "metadata": {},
   "outputs": [],
   "source": [
    "zip_cdna = os.path.join(_folder,'s1_cdna.zip')\n",
    "zip_cds = os.path.join(_folder,'s1_cds.zip')"
   ]
  },
  {
   "cell_type": "code",
   "execution_count": 8,
   "id": "alternative-banner",
   "metadata": {
    "collapsed": true
   },
   "outputs": [
    {
     "ename": "KeyboardInterrupt",
     "evalue": "",
     "output_type": "error",
     "traceback": [
      "\u001b[1;31m---------------------------------------------------------------------------\u001b[0m",
      "\u001b[1;31mKeyboardInterrupt\u001b[0m                         Traceback (most recent call last)",
      "\u001b[1;32m<ipython-input-8-5bced5bdd9ef>\u001b[0m in \u001b[0;36m<module>\u001b[1;34m\u001b[0m\n\u001b[1;32m----> 1\u001b[1;33m \u001b[0mdic_cdna\u001b[0m \u001b[1;33m=\u001b[0m \u001b[0mload_rna_fasta_zipfile\u001b[0m\u001b[1;33m(\u001b[0m\u001b[0mzip_cdna\u001b[0m\u001b[1;33m)\u001b[0m\u001b[1;33m\u001b[0m\u001b[1;33m\u001b[0m\u001b[0m\n\u001b[0m\u001b[0;32m      2\u001b[0m \u001b[0mdic_cds\u001b[0m \u001b[1;33m=\u001b[0m \u001b[0mload_rna_fasta_zipfile\u001b[0m\u001b[1;33m(\u001b[0m\u001b[0mzip_cds\u001b[0m\u001b[1;33m)\u001b[0m\u001b[1;33m\u001b[0m\u001b[1;33m\u001b[0m\u001b[0m\n",
      "\u001b[1;32m~\\workspace\\mofiwo\\mofiwo\\utility\\rna_handler.py\u001b[0m in \u001b[0;36mload_rna_fasta_zipfile\u001b[1;34m(fasta_zipfile)\u001b[0m\n\u001b[0;32m     29\u001b[0m     \u001b[0mdict_fasta\u001b[0m \u001b[1;33m=\u001b[0m \u001b[0mdict\u001b[0m\u001b[1;33m(\u001b[0m\u001b[1;33m)\u001b[0m\u001b[1;33m\u001b[0m\u001b[1;33m\u001b[0m\u001b[0m\n\u001b[0;32m     30\u001b[0m     \u001b[1;32mwith\u001b[0m \u001b[0mopen\u001b[0m\u001b[1;33m(\u001b[0m\u001b[0mos\u001b[0m\u001b[1;33m.\u001b[0m\u001b[0mpath\u001b[0m\u001b[1;33m.\u001b[0m\u001b[0mjoin\u001b[0m\u001b[1;33m(\u001b[0m\u001b[0mdir_name\u001b[0m\u001b[1;33m,\u001b[0m \u001b[0mfasta_file\u001b[0m\u001b[1;33m)\u001b[0m\u001b[1;33m,\u001b[0m \u001b[1;34m'r'\u001b[0m\u001b[1;33m)\u001b[0m \u001b[1;32mas\u001b[0m \u001b[0mfin\u001b[0m\u001b[1;33m:\u001b[0m\u001b[1;33m\u001b[0m\u001b[1;33m\u001b[0m\u001b[0m\n\u001b[1;32m---> 31\u001b[1;33m         \u001b[1;32mfor\u001b[0m \u001b[0mrecord\u001b[0m \u001b[1;32min\u001b[0m \u001b[0mSeqIO\u001b[0m\u001b[1;33m.\u001b[0m\u001b[0mparse\u001b[0m\u001b[1;33m(\u001b[0m\u001b[0mfin\u001b[0m\u001b[1;33m,\u001b[0m \u001b[1;34m'fasta'\u001b[0m\u001b[1;33m)\u001b[0m\u001b[1;33m:\u001b[0m\u001b[1;33m\u001b[0m\u001b[1;33m\u001b[0m\u001b[0m\n\u001b[0m\u001b[0;32m     32\u001b[0m             \u001b[0mdict_fasta\u001b[0m\u001b[1;33m[\u001b[0m\u001b[0mrecord\u001b[0m\u001b[1;33m.\u001b[0m\u001b[0mid\u001b[0m\u001b[1;33m]\u001b[0m \u001b[1;33m=\u001b[0m \u001b[0mrecord\u001b[0m\u001b[1;33m\u001b[0m\u001b[1;33m\u001b[0m\u001b[0m\n\u001b[0;32m     33\u001b[0m \u001b[1;33m\u001b[0m\u001b[0m\n",
      "\u001b[1;32mc:\\users\\by003457\\workspace\\mofiwo\\env\\lib\\site-packages\\Bio\\SeqIO\\Interfaces.py\u001b[0m in \u001b[0;36m__next__\u001b[1;34m(self)\u001b[0m\n\u001b[0;32m     71\u001b[0m     \u001b[1;32mdef\u001b[0m \u001b[0m__next__\u001b[0m\u001b[1;33m(\u001b[0m\u001b[0mself\u001b[0m\u001b[1;33m)\u001b[0m\u001b[1;33m:\u001b[0m\u001b[1;33m\u001b[0m\u001b[1;33m\u001b[0m\u001b[0m\n\u001b[0;32m     72\u001b[0m         \u001b[1;32mtry\u001b[0m\u001b[1;33m:\u001b[0m\u001b[1;33m\u001b[0m\u001b[1;33m\u001b[0m\u001b[0m\n\u001b[1;32m---> 73\u001b[1;33m             \u001b[1;32mreturn\u001b[0m \u001b[0mnext\u001b[0m\u001b[1;33m(\u001b[0m\u001b[0mself\u001b[0m\u001b[1;33m.\u001b[0m\u001b[0mrecords\u001b[0m\u001b[1;33m)\u001b[0m\u001b[1;33m\u001b[0m\u001b[1;33m\u001b[0m\u001b[0m\n\u001b[0m\u001b[0;32m     74\u001b[0m         \u001b[1;32mexcept\u001b[0m \u001b[0mException\u001b[0m\u001b[1;33m:\u001b[0m\u001b[1;33m\u001b[0m\u001b[1;33m\u001b[0m\u001b[0m\n\u001b[0;32m     75\u001b[0m             \u001b[1;32mif\u001b[0m \u001b[0mself\u001b[0m\u001b[1;33m.\u001b[0m\u001b[0mshould_close_stream\u001b[0m\u001b[1;33m:\u001b[0m\u001b[1;33m\u001b[0m\u001b[1;33m\u001b[0m\u001b[0m\n",
      "\u001b[1;32mc:\\users\\by003457\\workspace\\mofiwo\\env\\lib\\site-packages\\Bio\\SeqIO\\FastaIO.py\u001b[0m in \u001b[0;36miterate\u001b[1;34m(self, handle)\u001b[0m\n\u001b[0;32m    196\u001b[0m                 \u001b[1;32myield\u001b[0m \u001b[0mSeqRecord\u001b[0m\u001b[1;33m(\u001b[0m\u001b[0mSeq\u001b[0m\u001b[1;33m(\u001b[0m\u001b[0msequence\u001b[0m\u001b[1;33m)\u001b[0m\u001b[1;33m,\u001b[0m \u001b[0mid\u001b[0m\u001b[1;33m=\u001b[0m\u001b[0mid\u001b[0m\u001b[1;33m,\u001b[0m \u001b[0mname\u001b[0m\u001b[1;33m=\u001b[0m\u001b[0mname\u001b[0m\u001b[1;33m,\u001b[0m \u001b[0mdescription\u001b[0m\u001b[1;33m=\u001b[0m\u001b[0mdescr\u001b[0m\u001b[1;33m)\u001b[0m\u001b[1;33m\u001b[0m\u001b[1;33m\u001b[0m\u001b[0m\n\u001b[0;32m    197\u001b[0m         \u001b[1;32melse\u001b[0m\u001b[1;33m:\u001b[0m\u001b[1;33m\u001b[0m\u001b[1;33m\u001b[0m\u001b[0m\n\u001b[1;32m--> 198\u001b[1;33m             \u001b[1;32mfor\u001b[0m \u001b[0mtitle\u001b[0m\u001b[1;33m,\u001b[0m \u001b[0msequence\u001b[0m \u001b[1;32min\u001b[0m \u001b[0mSimpleFastaParser\u001b[0m\u001b[1;33m(\u001b[0m\u001b[0mhandle\u001b[0m\u001b[1;33m)\u001b[0m\u001b[1;33m:\u001b[0m\u001b[1;33m\u001b[0m\u001b[1;33m\u001b[0m\u001b[0m\n\u001b[0m\u001b[0;32m    199\u001b[0m                 \u001b[1;32mtry\u001b[0m\u001b[1;33m:\u001b[0m\u001b[1;33m\u001b[0m\u001b[1;33m\u001b[0m\u001b[0m\n\u001b[0;32m    200\u001b[0m                     \u001b[0mfirst_word\u001b[0m \u001b[1;33m=\u001b[0m \u001b[0mtitle\u001b[0m\u001b[1;33m.\u001b[0m\u001b[0msplit\u001b[0m\u001b[1;33m(\u001b[0m\u001b[1;32mNone\u001b[0m\u001b[1;33m,\u001b[0m \u001b[1;36m1\u001b[0m\u001b[1;33m)\u001b[0m\u001b[1;33m[\u001b[0m\u001b[1;36m0\u001b[0m\u001b[1;33m]\u001b[0m\u001b[1;33m\u001b[0m\u001b[1;33m\u001b[0m\u001b[0m\n",
      "\u001b[1;32mc:\\users\\by003457\\workspace\\mofiwo\\env\\lib\\site-packages\\Bio\\SeqIO\\FastaIO.py\u001b[0m in \u001b[0;36mSimpleFastaParser\u001b[1;34m(handle)\u001b[0m\n\u001b[0;32m     58\u001b[0m     \u001b[1;31m# when not opened in universal read lines mode)\u001b[0m\u001b[1;33m\u001b[0m\u001b[1;33m\u001b[0m\u001b[1;33m\u001b[0m\u001b[0m\n\u001b[0;32m     59\u001b[0m     \u001b[0mlines\u001b[0m \u001b[1;33m=\u001b[0m \u001b[1;33m[\u001b[0m\u001b[1;33m]\u001b[0m\u001b[1;33m\u001b[0m\u001b[1;33m\u001b[0m\u001b[0m\n\u001b[1;32m---> 60\u001b[1;33m     \u001b[1;32mfor\u001b[0m \u001b[0mline\u001b[0m \u001b[1;32min\u001b[0m \u001b[0mhandle\u001b[0m\u001b[1;33m:\u001b[0m\u001b[1;33m\u001b[0m\u001b[1;33m\u001b[0m\u001b[0m\n\u001b[0m\u001b[0;32m     61\u001b[0m         \u001b[1;32mif\u001b[0m \u001b[0mline\u001b[0m\u001b[1;33m[\u001b[0m\u001b[1;36m0\u001b[0m\u001b[1;33m]\u001b[0m \u001b[1;33m==\u001b[0m \u001b[1;34m\">\"\u001b[0m\u001b[1;33m:\u001b[0m\u001b[1;33m\u001b[0m\u001b[1;33m\u001b[0m\u001b[0m\n\u001b[0;32m     62\u001b[0m             \u001b[1;32myield\u001b[0m \u001b[0mtitle\u001b[0m\u001b[1;33m,\u001b[0m \u001b[1;34m\"\"\u001b[0m\u001b[1;33m.\u001b[0m\u001b[0mjoin\u001b[0m\u001b[1;33m(\u001b[0m\u001b[0mlines\u001b[0m\u001b[1;33m)\u001b[0m\u001b[1;33m.\u001b[0m\u001b[0mreplace\u001b[0m\u001b[1;33m(\u001b[0m\u001b[1;34m\" \"\u001b[0m\u001b[1;33m,\u001b[0m \u001b[1;34m\"\"\u001b[0m\u001b[1;33m)\u001b[0m\u001b[1;33m.\u001b[0m\u001b[0mreplace\u001b[0m\u001b[1;33m(\u001b[0m\u001b[1;34m\"\\r\"\u001b[0m\u001b[1;33m,\u001b[0m \u001b[1;34m\"\"\u001b[0m\u001b[1;33m)\u001b[0m\u001b[1;33m\u001b[0m\u001b[1;33m\u001b[0m\u001b[0m\n",
      "\u001b[1;32mC:\\ProgramData\\Anaconda3\\lib\\encodings\\cp1252.py\u001b[0m in \u001b[0;36mdecode\u001b[1;34m(self, input, final)\u001b[0m\n\u001b[0;32m     20\u001b[0m \u001b[1;33m\u001b[0m\u001b[0m\n\u001b[0;32m     21\u001b[0m \u001b[1;32mclass\u001b[0m \u001b[0mIncrementalDecoder\u001b[0m\u001b[1;33m(\u001b[0m\u001b[0mcodecs\u001b[0m\u001b[1;33m.\u001b[0m\u001b[0mIncrementalDecoder\u001b[0m\u001b[1;33m)\u001b[0m\u001b[1;33m:\u001b[0m\u001b[1;33m\u001b[0m\u001b[1;33m\u001b[0m\u001b[0m\n\u001b[1;32m---> 22\u001b[1;33m     \u001b[1;32mdef\u001b[0m \u001b[0mdecode\u001b[0m\u001b[1;33m(\u001b[0m\u001b[0mself\u001b[0m\u001b[1;33m,\u001b[0m \u001b[0minput\u001b[0m\u001b[1;33m,\u001b[0m \u001b[0mfinal\u001b[0m\u001b[1;33m=\u001b[0m\u001b[1;32mFalse\u001b[0m\u001b[1;33m)\u001b[0m\u001b[1;33m:\u001b[0m\u001b[1;33m\u001b[0m\u001b[1;33m\u001b[0m\u001b[0m\n\u001b[0m\u001b[0;32m     23\u001b[0m         \u001b[1;32mreturn\u001b[0m \u001b[0mcodecs\u001b[0m\u001b[1;33m.\u001b[0m\u001b[0mcharmap_decode\u001b[0m\u001b[1;33m(\u001b[0m\u001b[0minput\u001b[0m\u001b[1;33m,\u001b[0m\u001b[0mself\u001b[0m\u001b[1;33m.\u001b[0m\u001b[0merrors\u001b[0m\u001b[1;33m,\u001b[0m\u001b[0mdecoding_table\u001b[0m\u001b[1;33m)\u001b[0m\u001b[1;33m[\u001b[0m\u001b[1;36m0\u001b[0m\u001b[1;33m]\u001b[0m\u001b[1;33m\u001b[0m\u001b[1;33m\u001b[0m\u001b[0m\n\u001b[0;32m     24\u001b[0m \u001b[1;33m\u001b[0m\u001b[0m\n",
      "\u001b[1;31mKeyboardInterrupt\u001b[0m: "
     ]
    }
   ],
   "source": [
    "dic_cdna = load_rna_fasta_zipfile(zip_cdna)\n",
    "dic_cds = load_rna_fasta_zipfile(zip_cds)"
   ]
  },
  {
   "cell_type": "code",
   "execution_count": null,
   "id": "divided-immunology",
   "metadata": {},
   "outputs": [],
   "source": [
    "dic_utr = generate_utr_from_cdna_cds(dic_cdna, dic_cds)"
   ]
  },
  {
   "cell_type": "code",
   "execution_count": 22,
   "id": "multiple-trunk",
   "metadata": {},
   "outputs": [],
   "source": [
    "dic_seq = dict()\n",
    "for k,v in dic_utr.items():\n",
    "    dic_seq.update({k: {'CDS': dic_cds[k].seq, 'UT3': v['utr3'], 'UT5': v['utr5']}})"
   ]
  },
  {
   "cell_type": "code",
   "execution_count": 23,
   "id": "boxed-orientation",
   "metadata": {
    "collapsed": true
   },
   "outputs": [
    {
     "name": "stderr",
     "output_type": "stream",
     "text": [
      "# proceed: 100\n",
      "# proceed: 200\n",
      "# proceed: 300\n",
      "# proceed: 400\n",
      "# proceed: 500\n",
      "# proceed: 600\n",
      "# proceed: 700\n",
      "# proceed: 800\n",
      "# proceed: 900\n",
      "# proceed: 1000\n",
      "# proceed: 1100\n",
      "# proceed: 1200\n",
      "# proceed: 1300\n",
      "# proceed: 1400\n",
      "# proceed: 1500\n",
      "# proceed: 1600\n",
      "# proceed: 1700\n",
      "# proceed: 1800\n",
      "# proceed: 1900\n",
      "# proceed: 2000\n",
      "# proceed: 2100\n",
      "# proceed: 2200\n",
      "# proceed: 2300\n",
      "# proceed: 2400\n",
      "# proceed: 2500\n",
      "# proceed: 2600\n",
      "# proceed: 2700\n",
      "# proceed: 2800\n",
      "# proceed: 2900\n",
      "# proceed: 3000\n",
      "# proceed: 3100\n",
      "# proceed: 3200\n",
      "# proceed: 3300\n",
      "# proceed: 3400\n",
      "# proceed: 3500\n",
      "# proceed: 3600\n",
      "# proceed: 3700\n",
      "# proceed: 3800\n",
      "# proceed: 3900\n",
      "# proceed: 4000\n",
      "# proceed: 4100\n",
      "# proceed: 4200\n",
      "# proceed: 4300\n",
      "# proceed: 4400\n",
      "# proceed: 4500\n",
      "# proceed: 4600\n",
      "# proceed: 4700\n",
      "# proceed: 4800\n",
      "# proceed: 4900\n",
      "# proceed: 5000\n",
      "# proceed: 5100\n",
      "# proceed: 5200\n",
      "# proceed: 5300\n",
      "# proceed: 5400\n",
      "# proceed: 5500\n",
      "# proceed: 5600\n",
      "# proceed: 5700\n",
      "# proceed: 5800\n",
      "# proceed: 5900\n",
      "# proceed: 6000\n",
      "# proceed: 6100\n",
      "# proceed: 6200\n",
      "# proceed: 6300\n",
      "# proceed: 6400\n",
      "# proceed: 6500\n",
      "# proceed: 6600\n",
      "# proceed: 6700\n",
      "# proceed: 6800\n",
      "# proceed: 6900\n",
      "# proceed: 7000\n",
      "# proceed: 7100\n",
      "# proceed: 7200\n"
     ]
    }
   ],
   "source": [
    "ret = generate_feature_by_kmer_loc(dic_seq, need_log=True)"
   ]
  },
  {
   "cell_type": "code",
   "execution_count": 24,
   "id": "inside-acrylic",
   "metadata": {},
   "outputs": [],
   "source": [
    "df = pd.DataFrame(ret)"
   ]
  },
  {
   "cell_type": "code",
   "execution_count": 25,
   "id": "productive-catholic",
   "metadata": {},
   "outputs": [
    {
     "data": {
      "text/plain": [
       "(4032, 7252)"
      ]
     },
     "execution_count": 25,
     "metadata": {},
     "output_type": "execute_result"
    }
   ],
   "source": [
    "df.shape"
   ]
  },
  {
   "cell_type": "code",
   "execution_count": 26,
   "id": "alternative-wound",
   "metadata": {},
   "outputs": [],
   "source": [
    "df.to_parquet('./notebook/feature_intestine.gzip.parquet',compression='gzip')"
   ]
  },
  {
   "cell_type": "code",
   "execution_count": 9,
   "id": "comparable-island",
   "metadata": {},
   "outputs": [],
   "source": [
    "df= pd.read_parquet('./notebook/feature_intestine.gzip.parquet')"
   ]
  },
  {
   "cell_type": "code",
   "execution_count": 10,
   "id": "theoretical-sector",
   "metadata": {},
   "outputs": [],
   "source": [
    "df.fillna(0.0,inplace=True)"
   ]
  },
  {
   "cell_type": "code",
   "execution_count": 11,
   "id": "increasing-spokesman",
   "metadata": {},
   "outputs": [],
   "source": [
    "df_s1 = pd.read_excel(os.path.join(_folder,'aan2399_table_S1.xlsx'))"
   ]
  },
  {
   "cell_type": "code",
   "execution_count": 31,
   "id": "legendary-tomato",
   "metadata": {},
   "outputs": [],
   "source": [
    "df_s1 = df_s1[df_s1.target_id.isin(list(df.columns))]\n",
    "df_s1['b2'] = df_s1.b.apply(lambda x: 1 if x>0 else -1)"
   ]
  },
  {
   "cell_type": "code",
   "execution_count": 32,
   "id": "hollywood-error",
   "metadata": {},
   "outputs": [
    {
     "data": {
      "text/plain": [
       "475"
      ]
     },
     "execution_count": 32,
     "metadata": {},
     "output_type": "execute_result"
    }
   ],
   "source": [
    "cols = list(df_s1[(abs(df_s1.b2) < 4) & (df_s1.mean_obs > 3.5) & (df_s1.qval < 0.2)].target_id)\n",
    "len(cols)"
   ]
  },
  {
   "cell_type": "code",
   "execution_count": 33,
   "id": "introductory-justice",
   "metadata": {},
   "outputs": [],
   "source": [
    "df_x = df[cols]\n",
    "df_y = {x: int(df_s1[df_s1.target_id == x]['b2']) for x in cols}\n",
    "df_y = pd.DataFrame(df_y, index=[0])"
   ]
  },
  {
   "cell_type": "code",
   "execution_count": 34,
   "id": "a70f4c14",
   "metadata": {},
   "outputs": [],
   "source": [
    "df_x2 = df_x.T\n",
    "df_y2 = df_y.T\n",
    "df_y2.columns = ['Class']\n",
    "df_xy = pd.merge(df_x2,df_y2, left_index=True, right_index=True)"
   ]
  },
  {
   "cell_type": "code",
   "execution_count": 35,
   "id": "710c71a7",
   "metadata": {},
   "outputs": [],
   "source": [
    "X = df_xy.iloc[:,:-1].values\n",
    "y = df_xy.iloc[:,-1].values"
   ]
  },
  {
   "cell_type": "code",
   "execution_count": 36,
   "id": "2259cdfc",
   "metadata": {},
   "outputs": [],
   "source": [
    "from sklearn.model_selection import train_test_split\n",
    "\n",
    "X_train, X_test, y_train, y_test = train_test_split(X, y, test_size=0.2, random_state=0)"
   ]
  },
  {
   "cell_type": "code",
   "execution_count": 37,
   "id": "92a241af",
   "metadata": {},
   "outputs": [],
   "source": [
    "# Feature Scaling\n",
    "from sklearn.preprocessing import StandardScaler\n",
    "\n",
    "sc = StandardScaler()\n",
    "X_train = sc.fit_transform(X_train)\n",
    "X_test = sc.transform(X_test)"
   ]
  },
  {
   "cell_type": "code",
   "execution_count": 38,
   "id": "fac930ae",
   "metadata": {},
   "outputs": [],
   "source": [
    "from sklearn.ensemble import RandomForestRegressor\n",
    "from sklearn.neighbors import NearestNeighbors\n",
    "\n",
    "regressor = RandomForestClassifier(n_estimators=1000, random_state=0)\n",
    "# regressor = NearestNeighbors(n_neighbors=100, algorithm='ball_tree')\n",
    "regressor.fit(X_train, y_train)\n",
    "y_pred = regressor.predict(X_test)"
   ]
  },
  {
   "cell_type": "code",
   "execution_count": 39,
   "id": "million-labor",
   "metadata": {},
   "outputs": [
    {
     "name": "stdout",
     "output_type": "stream",
     "text": [
      "[[ 2 19]\n",
      " [ 0 74]]\n",
      "              precision    recall  f1-score   support\n",
      "\n",
      "          -1       1.00      0.10      0.17        21\n",
      "           1       0.80      1.00      0.89        74\n",
      "\n",
      "    accuracy                           0.80        95\n",
      "   macro avg       0.90      0.55      0.53        95\n",
      "weighted avg       0.84      0.80      0.73        95\n",
      "\n",
      "0.8\n"
     ]
    }
   ],
   "source": [
    "from sklearn.metrics import classification_report, confusion_matrix, accuracy_score\n",
    "\n",
    "print(confusion_matrix(y_test,y_pred))\n",
    "print(classification_report(y_test,y_pred))\n",
    "print(accuracy_score(y_test, y_pred))"
   ]
  },
  {
   "cell_type": "code",
   "execution_count": null,
   "id": "c87eda4b",
   "metadata": {},
   "outputs": [],
   "source": []
  }
 ],
 "metadata": {
  "kernelspec": {
   "display_name": "Python 3",
   "language": "python",
   "name": "python3"
  },
  "language_info": {
   "codemirror_mode": {
    "name": "ipython",
    "version": 3
   },
   "file_extension": ".py",
   "mimetype": "text/x-python",
   "name": "python",
   "nbconvert_exporter": "python",
   "pygments_lexer": "ipython3",
   "version": "3.8.3"
  }
 },
 "nbformat": 4,
 "nbformat_minor": 5
}
