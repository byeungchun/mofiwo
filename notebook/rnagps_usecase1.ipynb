{
 "cells": [
  {
   "cell_type": "code",
   "execution_count": 1,
   "id": "traditional-provision",
   "metadata": {},
   "outputs": [],
   "source": [
    "%load_ext autoreload\n",
    "%autoreload 2"
   ]
  },
  {
   "cell_type": "code",
   "execution_count": 2,
   "id": "ranging-cleaners",
   "metadata": {},
   "outputs": [],
   "source": [
    "import os\n",
    "os.chdir('..')"
   ]
  },
  {
   "cell_type": "code",
   "execution_count": 3,
   "id": "behind-approach",
   "metadata": {},
   "outputs": [],
   "source": [
    "fasta_cdna = r'./test/data/s1_cdna.fasta'\n",
    "fasta_cds = r'./test/data/s1_cds.fasta'"
   ]
  },
  {
   "cell_type": "code",
   "execution_count": 4,
   "id": "reduced-offering",
   "metadata": {},
   "outputs": [],
   "source": [
    "from Bio import SeqIO"
   ]
  },
  {
   "cell_type": "code",
   "execution_count": 6,
   "id": "comparable-chile",
   "metadata": {},
   "outputs": [],
   "source": [
    "dic_cdna = {record.id:record for record in SeqIO.parse(open(fasta_cdna, 'r'), 'fasta')}\n",
    "dic_cds = {record.id:record for record in SeqIO.parse(open(fasta_cds, 'r'), 'fasta')}"
   ]
  },
  {
   "cell_type": "code",
   "execution_count": 142,
   "id": "prerequisite-punishment",
   "metadata": {},
   "outputs": [],
   "source": [
    "import re\n",
    "import numpy as np\n",
    "import pandas as pd\n",
    "from itertools import product\n",
    "from mofiwo.utility import generate_utr_from_cdna_cds, load_rna_fasta_zipfile\n",
    "from mofiwo.analysis import generate_k_mer, generate_feature_by_kmer_loc"
   ]
  },
  {
   "cell_type": "code",
   "execution_count": 8,
   "id": "comic-seating",
   "metadata": {},
   "outputs": [],
   "source": [
    "dic_utr = generate_utr_from_cdna_cds(dic_cdna, dic_cds)"
   ]
  },
  {
   "cell_type": "code",
   "execution_count": 43,
   "id": "hidden-warrior",
   "metadata": {},
   "outputs": [],
   "source": []
  },
  {
   "cell_type": "code",
   "execution_count": 70,
   "id": "blessed-preference",
   "metadata": {},
   "outputs": [],
   "source": [
    "dic_seq = dict()\n",
    "for k,v in dic_utr.items():\n",
    "    dic_seq.update({k: {'CDS': dic_cds[k].seq, 'UT3': v['utr3'], 'UT5': v['utr5']}})"
   ]
  },
  {
   "cell_type": "code",
   "execution_count": 104,
   "id": "constitutional-voltage",
   "metadata": {},
   "outputs": [],
   "source": [
    "target_feature = dict()\n",
    "for target_id, seqs in dic_seq.items():\n",
    "    row_cnt = dict()\n",
    "    for seq_idx, seq in seqs.items():\n",
    "        for num_k in [3,4,5]:\n",
    "            _temp = pd.Series({f'{seq_idx}_{kmer}':len(re.findall(kmer, str(seq))) for kmer in generate_k_mer(num_k)})\n",
    "            row_cnt.update(_temp.apply(lambda x: x / _temp.sum()).to_dict())\n",
    "    target_feature[target_id] = row_cnt"
   ]
  },
  {
   "cell_type": "code",
   "execution_count": 111,
   "id": "annual-cannon",
   "metadata": {},
   "outputs": [
    {
     "data": {
      "text/html": [
       "<div>\n",
       "<style scoped>\n",
       "    .dataframe tbody tr th:only-of-type {\n",
       "        vertical-align: middle;\n",
       "    }\n",
       "\n",
       "    .dataframe tbody tr th {\n",
       "        vertical-align: top;\n",
       "    }\n",
       "\n",
       "    .dataframe thead th {\n",
       "        text-align: right;\n",
       "    }\n",
       "</style>\n",
       "<table border=\"1\" class=\"dataframe\">\n",
       "  <thead>\n",
       "    <tr style=\"text-align: right;\">\n",
       "      <th></th>\n",
       "      <th>ENSMUST00000087033</th>\n",
       "    </tr>\n",
       "  </thead>\n",
       "  <tbody>\n",
       "  </tbody>\n",
       "</table>\n",
       "</div>"
      ],
      "text/plain": [
       "Empty DataFrame\n",
       "Columns: [ENSMUST00000087033]\n",
       "Index: []"
      ]
     },
     "execution_count": 111,
     "metadata": {},
     "output_type": "execute_result"
    }
   ],
   "source": [
    "foo = pd.DataFrame(target_feature)\n",
    "foo[foo.apply(lambda x: len(x.index) == 7, axis=1)]"
   ]
  },
  {
   "cell_type": "code",
   "execution_count": 129,
   "id": "direct-literacy",
   "metadata": {},
   "outputs": [
    {
     "data": {
      "text/plain": [
       "CDS_AAA     Index(['ENSMUST00000087033'], dtype='object')\n",
       "CDS_AAAA    Index(['ENSMUST00000087033'], dtype='object')\n",
       "dtype: object"
      ]
     },
     "execution_count": 129,
     "metadata": {},
     "output_type": "execute_result"
    }
   ],
   "source": [
    "foo.head(2).apply(lambda x: x.index, axis=1)"
   ]
  },
  {
   "cell_type": "code",
   "execution_count": 138,
   "id": "floppy-recycling",
   "metadata": {},
   "outputs": [
    {
     "data": {
      "text/plain": [
       "ENSMUST00000087033    1.0\n",
       "dtype: float64"
      ]
     },
     "execution_count": 138,
     "metadata": {},
     "output_type": "execute_result"
    }
   ],
   "source": [
    "foo[[len(x) == 7 and x.startswith('CDS') for x in foo.index]].sum()"
   ]
  },
  {
   "cell_type": "code",
   "execution_count": 97,
   "id": "personalized-patio",
   "metadata": {},
   "outputs": [],
   "source": [
    "bar = pd.Series(foo)"
   ]
  },
  {
   "cell_type": "code",
   "execution_count": 101,
   "id": "naked-depression",
   "metadata": {},
   "outputs": [],
   "source": [
    "bar2 = bar.apply(lambda x: x/bar.sum())"
   ]
  },
  {
   "cell_type": "code",
   "execution_count": 103,
   "id": "continuous-class",
   "metadata": {},
   "outputs": [
    {
     "data": {
      "text/plain": [
       "{'a': 0.16666666666666666, 'b': 0.3333333333333333, 'c': 0.5}"
      ]
     },
     "execution_count": 103,
     "metadata": {},
     "output_type": "execute_result"
    }
   ],
   "source": [
    "bar2.to_dict()"
   ]
  },
  {
   "cell_type": "code",
   "execution_count": 140,
   "id": "ambient-madison",
   "metadata": {},
   "outputs": [],
   "source": [
    "ret = generate_feature_by_kmer_loc(dic_seq)"
   ]
  },
  {
   "cell_type": "code",
   "execution_count": 143,
   "id": "peaceful-lender",
   "metadata": {},
   "outputs": [],
   "source": [
    "zip_cdna = r'E:/workspace/rnamotif/samples/s1_cdna.zip'\n",
    "zip_cds = r'E:/workspace/rnamotif/samples/s1_cds.zip'"
   ]
  },
  {
   "cell_type": "code",
   "execution_count": 144,
   "id": "desperate-dealer",
   "metadata": {},
   "outputs": [],
   "source": [
    "dic_cdna = load_rna_fasta_zipfile(zip_cdna)\n",
    "dic_cds = load_rna_fasta_zipfile(zip_cds)"
   ]
  },
  {
   "cell_type": "code",
   "execution_count": null,
   "id": "weighted-parcel",
   "metadata": {},
   "outputs": [],
   "source": [
    "dic_utr = generate_utr_from_cdna_cds(dic_cdna, dic_cds)"
   ]
  },
  {
   "cell_type": "code",
   "execution_count": 146,
   "id": "lonely-relevance",
   "metadata": {},
   "outputs": [],
   "source": [
    "dic_seq = dict()\n",
    "for k,v in dic_utr.items():\n",
    "    dic_seq.update({k: {'CDS': dic_cds[k].seq, 'UT3': v['utr3'], 'UT5': v['utr5']}})"
   ]
  },
  {
   "cell_type": "code",
   "execution_count": null,
   "id": "seven-samuel",
   "metadata": {},
   "outputs": [],
   "source": [
    "ret = generate_feature_by_kmer_loc(dic_seq)"
   ]
  },
  {
   "cell_type": "code",
   "execution_count": null,
   "id": "existing-movie",
   "metadata": {},
   "outputs": [],
   "source": [
    "len(ret)"
   ]
  },
  {
   "cell_type": "code",
   "execution_count": null,
   "id": "infrared-dominant",
   "metadata": {},
   "outputs": [],
   "source": []
  }
 ],
 "metadata": {
  "kernelspec": {
   "display_name": "Python 3",
   "language": "python",
   "name": "python3"
  },
  "language_info": {
   "codemirror_mode": {
    "name": "ipython",
    "version": 3
   },
   "file_extension": ".py",
   "mimetype": "text/x-python",
   "name": "python",
   "nbconvert_exporter": "python",
   "pygments_lexer": "ipython3",
   "version": "3.8.2"
  }
 },
 "nbformat": 4,
 "nbformat_minor": 5
}
