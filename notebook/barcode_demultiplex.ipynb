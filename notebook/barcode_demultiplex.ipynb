{
 "cells": [
  {
   "cell_type": "markdown",
   "metadata": {},
   "source": [
    "### STEP3. Oligo dT barcode demultiplexing "
   ]
  },
  {
   "cell_type": "code",
   "execution_count": null,
   "metadata": {
    "jupyter": {
     "outputs_hidden": true
    }
   },
   "outputs": [],
   "source": [
    "# Python library prep\n",
    "!pip install pandas biopython"
   ]
  },
  {
   "cell_type": "code",
   "execution_count": 1,
   "metadata": {},
   "outputs": [],
   "source": [
    "import os\n",
    "import gc\n",
    "import gzip\n",
    "import numpy as np\n",
    "import pickle\n",
    "import pandas as pd\n",
    "from pathlib import Path\n",
    "from datetime import datetime\n",
    "from Bio import SeqIO, bgzf\n",
    "from Bio.SeqRecord import SeqRecord\n",
    "from Bio.Seq import Seq"
   ]
  },
  {
   "cell_type": "code",
   "execution_count": 2,
   "metadata": {},
   "outputs": [
    {
     "data": {
      "text/html": [
       "<div>\n",
       "<style scoped>\n",
       "    .dataframe tbody tr th:only-of-type {\n",
       "        vertical-align: middle;\n",
       "    }\n",
       "\n",
       "    .dataframe tbody tr th {\n",
       "        vertical-align: top;\n",
       "    }\n",
       "\n",
       "    .dataframe thead th {\n",
       "        text-align: right;\n",
       "    }\n",
       "</style>\n",
       "<table border=\"1\" class=\"dataframe\">\n",
       "  <thead>\n",
       "    <tr style=\"text-align: right;\">\n",
       "      <th></th>\n",
       "      <th>pool</th>\n",
       "      <th>barcode</th>\n",
       "      <th>sequence</th>\n",
       "    </tr>\n",
       "  </thead>\n",
       "  <tbody>\n",
       "    <tr>\n",
       "      <th>0</th>\n",
       "      <td>N701</td>\n",
       "      <td>G2</td>\n",
       "      <td>GAGTGG</td>\n",
       "    </tr>\n",
       "    <tr>\n",
       "      <th>1</th>\n",
       "      <td>N701</td>\n",
       "      <td>H1</td>\n",
       "      <td>ACTTGA</td>\n",
       "    </tr>\n",
       "  </tbody>\n",
       "</table>\n",
       "</div>"
      ],
      "text/plain": [
       "   pool barcode sequence\n",
       "0  N701      G2   GAGTGG\n",
       "1  N701      H1   ACTTGA"
      ]
     },
     "execution_count": 2,
     "metadata": {},
     "output_type": "execute_result"
    }
   ],
   "source": [
    "# Load oligo dT barcode Excel file\n",
    "df_barcode = pd.read_excel('barcode.xlsx')\n",
    "df_barcode.head(2)"
   ]
  },
  {
   "cell_type": "code",
   "execution_count": null,
   "metadata": {},
   "outputs": [],
   "source": [
    "# Define barcode, umi length\n",
    "meta = {'len_barcode': 6, 'len_umi': 10}\n",
    "meta['path_raw'] = r'./data/fastq/raw/'\n",
    "meta['raw_fastq'] = os.listdir(meta['path_raw'])\n",
    "meta['path_output'] = f\"output_{datetime.now().strftime('%Y%m%d_%H%M')}\"\n",
    "meta['path_pool'] = {y: os.path.join(meta['path_output'], y) for y in set([x[:6] for x in meta['raw_fastq']])}\n",
    "\n",
    "meta['pool_fastq'] = {'ML1_S4': 'N701', 'ML2_S5': 'N702'}"
   ]
  },
  {
   "cell_type": "code",
   "execution_count": null,
   "metadata": {},
   "outputs": [],
   "source": [
    "def write_seq(fout, seq):\n",
    "    SeqIO.write(seq, fout, 'fastq')\n",
    "    return True"
   ]
  },
  {
   "cell_type": "code",
   "execution_count": null,
   "metadata": {},
   "outputs": [],
   "source": [
    "for pool_key, pool_path in meta['path_pool'].items():\n",
    "    \n",
    "    _tgt_seq = {x: list() for x in df_barcode[df_barcode.pool == meta['pool_fastq'][pool_key]].sequence}\n",
    "    \n",
    "    fastq = {'R1':'', 'R2':''}    \n",
    "    for _key in fastq.keys():\n",
    "        fastq[_key] = [x for x in meta['raw_fastq'] if x.startswith(pool_key) and x.find(_key) > 0][0]\n",
    "        \n",
    "    _fobj = dict()\n",
    "    for _barcode in _tgt_seq.keys():\n",
    "        _path_barcode = os.path.join(pool_path,_barcode)\n",
    "        Path(_path_barcode).mkdir(parents=True,exist_ok=True)\n",
    "        _fobj[_barcode] = dict()\n",
    "        for _key, _val in fastq.items():\n",
    "            _fobj[_barcode][_key] = open(os.path.join(_path_barcode, f\"{_val[:-8]}fastq\"),'wt')\n",
    "    \n",
    "    with gzip.open(os.path.join(meta['path_raw'], fastq['R1']), 'rt') as fin_r1:\n",
    "        with gzip.open(os.path.join(meta['path_raw'], fastq['R2']), 'rt') as fin_r2:\n",
    "            _read1 = SeqIO.parse(fin_r1, \"fastq\")\n",
    "            _read2 = SeqIO.parse(fin_r2, \"fastq\")\n",
    "            iter_count = 0\n",
    "            while True:\n",
    "                try:\n",
    "                    _r1_seq = next(_read1)\n",
    "                    _r2_seq = next(_read2)\n",
    "                    _barcode = str(_r1_seq.seq[:meta['len_barcode']])\n",
    "                    if _barcode in _tgt_seq.keys():\n",
    "                        write_seq(_fobj[_barcode]['R1'], _r1_seq)\n",
    "                        write_seq(_fobj[_barcode]['R2'], _r2_seq)\n",
    "                    iter_count += 1\n",
    "                except Exception as ex:\n",
    "                    print(ex)\n",
    "                    for _filer1r2 in _fobj.values():\n",
    "                        for _file in _filer1r2.values():\n",
    "                            _file.close()\n",
    "\n",
    "    for _filer1r2 in _fobj.values():\n",
    "        for _file in _filer1r2.values():\n",
    "            _file.close()"
   ]
  },
  {
   "cell_type": "code",
   "execution_count": null,
   "metadata": {},
   "outputs": [],
   "source": [
    "_"
   ]
  },
  {
   "cell_type": "code",
   "execution_count": null,
   "metadata": {},
   "outputs": [],
   "source": [
    "SeqIO.write(SeqRecord(Seq(seq[0][2]),seq[0][0],seq[0][0],seq[0][1],letter_annotations={'phred_quality':seq[0][3]}), _fobj['GAGTGG'], 'fastq')"
   ]
  },
  {
   "cell_type": "code",
   "execution_count": null,
   "metadata": {},
   "outputs": [],
   "source": [
    "for pool_key, pool_path in meta['path_pool'].items():\n",
    "    \n",
    "    _tgt_seq = {x: list() for x in df_barcode[df_barcode.pool == meta['pool_fastq'][pool_key]].sequence}\n",
    "    fastq = {'R1':'', 'R2':''}\n",
    "    \n",
    "    for _key in fastq.keys():\n",
    "        fastq[_key] = [x for x in meta['raw_fastq'] if x.startswith(pool_key) and x.find(_key) > 0][0]\n",
    "    \n",
    "    with gzip.open(os.path.join(meta['path_raw'], fastq['R1']), 'rt') as fin_r1:\n",
    "        with gzip.open(os.path.join(meta['path_raw'], fastq['R2']), 'rt') as fin_r2:\n",
    "            _read1 = SeqIO.parse(fin_r1, \"fastq\")\n",
    "            _read2 = SeqIO.parse(fin_r2, \"fastq\")\n",
    "            iter_count = 0\n",
    "            while True:\n",
    "                try:\n",
    "                    _r1_seq = next(_read1)\n",
    "                    _r2_seq = next(_read2)\n",
    "                    \n",
    "                    _barcode = str(_r1_seq.seq[:meta['len_barcode']])\n",
    "                    if _barcode in _tgt_seq.keys():\n",
    "                        _tgt_seq[_barcode].append([\n",
    "                            [_r1_seq.id,_r1_seq.description, str(_r1_seq.seq), np.array(_r1_seq.letter_annotations['phred_quality'],dtype=int)],\n",
    "                            [_r2_seq.id,_r2_seq.description, str(_r2_seq.seq), np.array(_r2_seq.letter_annotations['phred_quality'],dtype=int)],\n",
    "                        ])\n",
    "                    iter_count += 1\n",
    "                except Exception as ex:\n",
    "                    print(ex)\n",
    "                    break\n",
    "    print(f\"loading finished: {pool_key}({datetime.now().strftime('%Y%m%d %H:%M')})\")\n",
    "    for _key in _tgt_seq.keys():\n",
    "        _path_barcode = os.path.join(pool_path,_key)\n",
    "        Path(_path_barcode).mkdir(parents=True,exist_ok=True)\n",
    "        with bgzf.BgzfWriter(os.path.join(_path_barcode, f\"{fastq['R1'][:-8]}fastq.bgz\"),'wb') as fout_r1:\n",
    "            with bgzf.BgzfWriter(os.path.join(_path_barcode, f\"{fastq['R2'][:-8]}fastq.bgz\"),'wb') as fout_r2:\n",
    "                for _seq in _tgt_seq[_key]:\n",
    "                    #SeqIO.write(_seq[0], fout_r1, 'fastq')\n",
    "                    SeqIO.write(SeqRecord(Seq(_seq[0][2]),_seq[0][0],_seq[0][0],_seq[0][1],letter_annotations={'phred_quality':_seq[0][3]}), fout_r1, 'fastq')\n",
    "                    SeqIO.write(SeqRecord(Seq(_seq[1][2]),_seq[1][0],_seq[1][0],_seq[1][1],letter_annotations={'phred_quality':_seq[1][3]}), fout_r2, 'fastq')\n",
    "                    #SeqIO.write(_seq[1], fout_r2, 'fastq')\n",
    "    \n",
    "    print(f\"writing finished: {pool_key}({datetime.now().strftime('%Y%m%d %H:%M')})\")\n",
    "    _tgt_seq = None\n",
    "    gc.collect()"
   ]
  },
  {
   "cell_type": "code",
   "execution_count": null,
   "metadata": {},
   "outputs": [],
   "source": [
    "# Following Martin advice - 10 May 2021\n",
    "\n",
    "for pool_key, pool_path in meta['path_pool'].items():\n",
    "    \n",
    "    fastq = {'R1':'', 'R2':''}\n",
    "    \n",
    "    for _key in fastq.keys():\n",
    "        fastq[_key] = [x for x in meta['raw_fastq'] if x.startswith(pool_key) and x.find(_key) > 0][0]\n",
    "    \n",
    "    # Load R1 file as Python dictionary\n",
    "    _r1 = dict()\n",
    "    with gzip.open(os.path.join(meta['path_raw'], fastq['R1']), 'rt') as fin_r1:\n",
    "        for _r1_seq in SeqIO.parse(fin_r1, 'fastq'):\n",
    "            _r1[_r1_seq.id] =(str(_r1_seq.seq), np.array(_r1_seq.letter_annotations['phred_quality'],dtype=int))\n",
    "            \n",
    "    # Read R2 file line by line and write to FASTQ\n",
    "    Path(pool_path).mkdir(parents=True,exist_ok=True)\n",
    "    with gzip.open(os.path.join(meta['path_raw'], fastq['R2']), 'rt') as fin_r2:\n",
    "        with bgzf.BgzfWriter(os.path.join(pool_path, f\"{fastq['R1'][:-8]}{_key}.fastq.bgz\".replace('R1','R12')),'wb') as fout:\n",
    "            _read2 = SeqIO.parse(fin_r2, \"fastq\")\n",
    "            while True:\n",
    "                try:\n",
    "                    _r2_seq = next(_read2)\n",
    "                    _r1_seq = _r1.get(_r2_seq.id)\n",
    "                    _barcode = _r1_seq[0][:meta['len_barcode']]\n",
    "                    _umi = _r1_seq[0][meta['len_barcode']:meta['len_barcode']+ meta['len_umi']]\n",
    "                    _seq = _r1_seq[0][meta['len_barcode']+meta['len_umi']:]+str(_r2_seq.seq)\n",
    "\n",
    "                    _r2_phred = np.array(_r2_seq.letter_annotations['phred_quality'],dtype=int)\n",
    "                    _phred = {'phred_quality':np.concatenate((_r1_seq[1][meta['len_barcode']+meta['len_umi']:], _r2_phred))}\n",
    "\n",
    "                    SeqIO.write(SeqRecord(Seq(_seq),_r2_seq.id,'',f'BARCODE:{_barcode} UMI:{_umi}',letter_annotations=_phred), fout, 'fastq')\n",
    "\n",
    "                except KeyError as ex:\n",
    "                    print(f'{ex} is not exist!')\n",
    "                    break\n",
    "                except Exception as ex:\n",
    "                    print(ex)\n",
    "                    break\n",
    "    _r1 = None\n",
    "    gc.collect()"
   ]
  },
  {
   "cell_type": "code",
   "execution_count": null,
   "metadata": {},
   "outputs": [],
   "source": []
  },
  {
   "cell_type": "code",
   "execution_count": null,
   "metadata": {},
   "outputs": [],
   "source": [
    "# for pool_key, pool_path in meta['path_pool'].items():\n",
    "    \n",
    "#     _tgt_seq = {x: list() for x in df_barcode[df_barcode.pool == meta['pool_fastq'][pool_key]].sequence}\n",
    "#     fastq = {'R1':'', 'R2':''}\n",
    "    \n",
    "#     for _key in fastq.keys():\n",
    "#         fastq[_key] = [x for x in meta['raw_fastq'] if x.startswith(pool_key) and x.find(_key) > 0][0]\n",
    "    \n",
    "#     with gzip.open(os.path.join(meta['path_raw'], fastq['R1']), 'rt') as fin_r1:\n",
    "#         with gzip.open(os.path.join(meta['path_raw'], fastq['R2']), 'rt') as fin_r2:\n",
    "#             _read1 = SeqIO.parse(fin_r1, \"fastq\")\n",
    "#             _read2 = SeqIO.parse(fin_r2, \"fastq\")\n",
    "#             iter_count = 0\n",
    "#             while True:\n",
    "#                 try:\n",
    "#                     _r1_seq = next(_read1)\n",
    "#                     _r2_seq = next(_read2)\n",
    "#                     _barcode = str(_r1_seq.seq[:meta['len_barcode']])\n",
    "#                     _umi = str(_r1_seq.seq[meta['len_barcode']:meta['len_barcode']+ meta['len_umi']])\n",
    "#                     if _barcode in _tgt_seq.keys():\n",
    "#                         _seq = str(_r1_seq.seq)[meta['len_barcode']+meta['len_umi']:]+str(_r2_seq.seq)\n",
    "#                         _tgt_seq[_barcode].append([_r1_seq.id,_umi,_seq])\n",
    "#                     iter_count += 1\n",
    "                    \n",
    "#                 except:\n",
    "#                     break\n",
    "                    \n",
    "#     Path(pool_path).mkdir(parents=True,exist_ok=True)\n",
    "#     for _key, _seqs in _tgt_seq.items():\n",
    "#         with open(os.path.join(pool_path, f\"{fastq['R1'][:-8]}{_key}.fasta\".replace('R1','R12')),'wt') as fout:\n",
    "#             for _seq in _seqs:\n",
    "#                 SeqIO.write(SeqRecord(Seq(_seq[2]),_seq[0],'',f'BARCODE:{_key} UMI:{_seq[1]}'), fout, 'fasta')\n",
    "    \n",
    "#     _tgt_seq = None\n",
    "#     gc.collect()\n",
    "    "
   ]
  },
  {
   "cell_type": "code",
   "execution_count": null,
   "metadata": {},
   "outputs": [],
   "source": []
  }
 ],
 "metadata": {
  "kernelspec": {
   "display_name": "Python 3",
   "language": "python",
   "name": "python3"
  },
  "language_info": {
   "codemirror_mode": {
    "name": "ipython",
    "version": 3
   },
   "file_extension": ".py",
   "mimetype": "text/x-python",
   "name": "python",
   "nbconvert_exporter": "python",
   "pygments_lexer": "ipython3",
   "version": "3.8.5"
  }
 },
 "nbformat": 4,
 "nbformat_minor": 4
}
