{
 "cells": [
  {
   "cell_type": "markdown",
   "id": "allied-closer",
   "metadata": {},
   "source": [
    "### Tutorial scRNA analysis\n",
    "In this tutorial, it shows how to analysis paired-end RNA sequences through the below steps\n",
    "\n",
    "- STEP1: Genome index file generation \n",
    "- STEP2: Kallisto-bustools \n",
    "- STEP3: Sleuth"
   ]
  },
  {
   "cell_type": "markdown",
   "id": "sporting-trout",
   "metadata": {},
   "source": [
    "#### STEP1: Genome index file generation\n",
    "\n",
    "1) STAR (Spliced Transcripts Alignment to a Reference) installation ([link](https://github.com/alexdobin/STAR))\n",
    "\n",
    "2) Sequence data download from ([Ensembl](https://m.ensembl.org/info/data/ftp/index.html)). In this example, it downloads [Mus musculus cDNA](http://ftp.ensembl.org/pub/release-104/fasta/mus_musculus/cdna/)\n",
    "\n",
    "> Extract the download file and unzip it\n",
    "\n",
    "3) Index file generation\n",
    "\n",
    "```bash\n",
    "STAR --runMode genomeGenerate \\\n",
    "        --runThreadN 3 \\\n",
    "        --genomeDir {output directory} \\\n",
    "        --genomeFastaFiles Mus_musculus.GRCm38.cdna.all.fa \\\n",
    "        --limitGenomeGenerateRAM 128000000000\n",
    "```\n",
    "\n",
    "> It generates [two output files](https://drive.switch.ch/index.php/s/Ulzt9Ew2Q6YaL3B)\n",
    ">\n",
    "> - transriptome.idx\n",
    "> - transcripts_to_genes.txt\n",
    "\n",
    "** kallisto index command also can generate the index file but I didn't try. It also provide [prebuilt files](https://github.com/pachterlab/kallisto-transcriptome-indices/releases)"
   ]
  },
  {
   "cell_type": "markdown",
   "id": "dynamic-reduction",
   "metadata": {},
   "source": [
    "#### STEP2: Kallisto-bustools\n",
    "1. Kallisto-bustools installation. kb-python is the wrapper library of kalliso and bustools.\n",
    "\n",
    ">```bash\n",
    "pip install kb-python\n",
    ">```\n",
    "\n",
    "2. Execute kallisto quant command \n",
    "\n",
    ">Before kalliso execution, it needs QC, barcode demultiplex first. \n",
    ">- About FASTQ file quality check, please see [this link](https://scrnaseq-course.cog.sanger.ac.uk/website/processing-raw-scrna-seq-data.html#fastqc)\n",
    ">- About barcode demultiplex, it needs number of barcode list and use [the Python script](https://drive.switch.ch/index.php/s/DQLswEzpo9nfNSd)\n",
    "\n",
    "```bash\n",
    "kallisto quant \n",
    "    -i transcriptome.idx \\\n",
    "    -b 100 \\\n",
    "    -o {output directory} \\ \n",
    "    ML1_S4_L003_R1_001.fastq ML1_S4_L003_R2_001.fastq\n",
    "```\n",
    "\n",
    "3. Execute kallisto-bustools command\n",
    "\n",
    ">[Popular tutorial](https://www.kallistobus.tools/tutorials/kb_quality_control/python/kb_intro_1_python/)\n",
    ">It needs to define the positions of barcode, umi, cdna or it can use pre-defined position parameter (kb --list).\n",
    "```bash\n",
    "kb count \n",
    "    -i transcriptome.idx \\\n",
    "    -g transcripts_to_genes.txt \\\n",
    "    --overwrite \\\n",
    "    -t 2 \\\n",
    "    -x 0,0,6:0,6,21:1,0,0 \\\n",
    "    ML2_S5_L003_R1_002.fastq ML2_S5_L003_R2_001.fastq\n",
    "```"
   ]
  },
  {
   "cell_type": "markdown",
   "id": "norwegian-removal",
   "metadata": {},
   "source": [
    "#### STEP3: Sleuth\n",
    "\n",
    "- Reference tutorial([link](https://pachterlab.github.io/sleuth_walkthroughs/trapnell/analysis.html))\n",
    "- Question:what is [the condition](https://github.com/Kapeel/Sleuth-tutorial-iPlant)?"
   ]
  },
  {
   "cell_type": "code",
   "execution_count": null,
   "id": "exposed-barbados",
   "metadata": {},
   "outputs": [],
   "source": []
  }
 ],
 "metadata": {
  "kernelspec": {
   "display_name": "Python 3",
   "language": "python",
   "name": "python3"
  },
  "language_info": {
   "codemirror_mode": {
    "name": "ipython",
    "version": 3
   },
   "file_extension": ".py",
   "mimetype": "text/x-python",
   "name": "python",
   "nbconvert_exporter": "python",
   "pygments_lexer": "ipython3",
   "version": "3.8.5"
  }
 },
 "nbformat": 4,
 "nbformat_minor": 5
}
