{
 "cells": [
  {
   "cell_type": "code",
   "execution_count": 1,
   "id": "architectural-dealing",
   "metadata": {},
   "outputs": [],
   "source": [
    "%load_ext autoreload\n",
    "%autoreload 2"
   ]
  },
  {
   "cell_type": "code",
   "execution_count": 2,
   "id": "genetic-photograph",
   "metadata": {},
   "outputs": [],
   "source": [
    "import os\n",
    "import warnings"
   ]
  },
  {
   "cell_type": "code",
   "execution_count": 4,
   "id": "western-height",
   "metadata": {},
   "outputs": [],
   "source": [
    "os.chdir('..')\n",
    "warnings.filterwarnings('ignore')"
   ]
  },
  {
   "cell_type": "code",
   "execution_count": 68,
   "id": "different-ancient",
   "metadata": {},
   "outputs": [],
   "source": [
    "import re\n",
    "import pickle\n",
    "import pandas as pd\n",
    "import numpy as np\n",
    "\n",
    "from Bio import SeqIO\n",
    "from mofiwo.connector.ensembl import read_ensembl\n",
    "from mofiwo.utility.rna_handler import load_rna_fasta_zipfile\n",
    "from mofiwo.utility.rna_handler import generate_3utr_from_cdna_cds"
   ]
  },
  {
   "cell_type": "code",
   "execution_count": 7,
   "id": "charming-frost",
   "metadata": {},
   "outputs": [],
   "source": [
    "fasta_cds_zipfile = r'D:\\workspace\\rnamotif\\samples\\s1_cds.zip'\n",
    "fasta_cdna_zipfile = r'D:\\workspace\\rnamotif\\samples\\s1_cdna.zip'"
   ]
  },
  {
   "cell_type": "code",
   "execution_count": 9,
   "id": "rental-nature",
   "metadata": {},
   "outputs": [],
   "source": [
    "pickle_files = [x for x in os.listdir(os.path.expanduser(r'~\\Downloads')) if x.endswith('pickle')]"
   ]
  },
  {
   "cell_type": "code",
   "execution_count": 25,
   "id": "casual-roots",
   "metadata": {},
   "outputs": [],
   "source": [
    "df_apical = pd.DataFrame(pickle.load(open(os.path.join(os.path.expanduser(r'~\\Downloads'), 'apical_bp_3.pickle'), 'rb')))\n",
    "df_basal = pd.DataFrame(pickle.load(open(os.path.join(os.path.expanduser(r'~\\Downloads'), 'basal_bp_3.pickle'), 'rb')))"
   ]
  },
  {
   "cell_type": "code",
   "execution_count": null,
   "id": "social-novel",
   "metadata": {},
   "outputs": [],
   "source": [
    "dic_cds = load_rna_fasta_zipfile(fasta_cds_zipfile)\n",
    "dic_cdna = load_rna_fasta_zipfile(fasta_cdna_zipfile)\n",
    "dic_utr3 = generate_3utr_from_cdna_cds(dic_cdna, dic_cds)"
   ]
  },
  {
   "cell_type": "code",
   "execution_count": 32,
   "id": "isolated-pricing",
   "metadata": {},
   "outputs": [
    {
     "data": {
      "text/plain": [
       "(64, 87)"
      ]
     },
     "execution_count": 32,
     "metadata": {},
     "output_type": "execute_result"
    }
   ],
   "source": [
    "df_basal.shape"
   ]
  },
  {
   "cell_type": "code",
   "execution_count": 31,
   "id": "champion-survey",
   "metadata": {},
   "outputs": [
    {
     "data": {
      "text/plain": [
       "(64, 87)"
      ]
     },
     "execution_count": 31,
     "metadata": {},
     "output_type": "execute_result"
    }
   ],
   "source": [
    "df_basal[[x for x in df_basal.columns if x in dic_utr3.keys()]].shape"
   ]
  },
  {
   "cell_type": "code",
   "execution_count": 19,
   "id": "amended-breed",
   "metadata": {},
   "outputs": [
    {
     "name": "stdout",
     "output_type": "stream",
     "text": [
      "88:94 - AAAAAA\n",
      "2646:2652 - AAAAAA\n",
      "2905:2911 - AAAAAA\n",
      "2911:2917 - AAAAAA\n",
      "3317:3323 - AAAAAA\n",
      "3849:3855 - AAAAAA\n"
     ]
    }
   ],
   "source": [
    "seq_str = str(dic_utr3['ENSMUST00000087600'].seq)\n",
    "for x in re.finditer('AAAAAA', seq_str):\n",
    "    print(f'{x.start()}:{x.end()} - {seq_str[x.start():x.end()]}')"
   ]
  },
  {
   "cell_type": "code",
   "execution_count": 24,
   "id": "processed-commons",
   "metadata": {},
   "outputs": [
    {
     "data": {
      "text/plain": [
       "count     7224.000000\n",
       "mean      1717.109635\n",
       "std       1798.167506\n",
       "min          1.000000\n",
       "25%        511.000000\n",
       "50%       1187.500000\n",
       "75%       2364.000000\n",
       "max      39397.000000\n",
       "dtype: float64"
      ]
     },
     "execution_count": 24,
     "metadata": {},
     "output_type": "execute_result"
    }
   ],
   "source": [
    "pd.Series([len(x.seq) for x in dic_utr3.values()]).describe()"
   ]
  },
  {
   "cell_type": "code",
   "execution_count": 49,
   "id": "legal-party",
   "metadata": {},
   "outputs": [],
   "source": [
    "foo = df_basal.apply(lambda x: x / len(dic_utr3[x.name].seq))"
   ]
  },
  {
   "cell_type": "code",
   "execution_count": 83,
   "id": "lovely-uzbekistan",
   "metadata": {},
   "outputs": [
    {
     "data": {
      "text/plain": [
       "3881"
      ]
     },
     "execution_count": 83,
     "metadata": {},
     "output_type": "execute_result"
    }
   ],
   "source": [
    "len(dic_utr3['ENSMUST00000087600'].seq)"
   ]
  },
  {
   "cell_type": "code",
   "execution_count": 82,
   "id": "mighty-tribe",
   "metadata": {},
   "outputs": [
    {
     "data": {
      "text/plain": [
       "3661"
      ]
     },
     "execution_count": 82,
     "metadata": {},
     "output_type": "execute_result"
    }
   ],
   "source": [
    "df_basal['ENSMUST00000087600'].sum()"
   ]
  },
  {
   "cell_type": "code",
   "execution_count": null,
   "id": "fatal-folks",
   "metadata": {},
   "outputs": [],
   "source": [
    "bp_all = itertools.product(['A','T','C','G'], repeat=3)\n",
    "bp_all = [''.join(x) for x in bp_all]\n",
    "bp_all"
   ]
  },
  {
   "cell_type": "code",
   "execution_count": null,
   "id": "political-loading",
   "metadata": {},
   "outputs": [],
   "source": [
    "import concurrent.futures\n",
    "import urllib.request\n",
    "\n",
    "def calculate_bp_count(seq_str, bp_all):\n",
    "    bp_cnt = {bp:0 for bp in bp_all}\n",
    "    for bp in bp_all:\n",
    "        num_bp = len(re.findall(bp, seq_str)) \n",
    "        if num_bp > 0:\n",
    "            bp_cnt[bp] += num_bp\n",
    "    return bp_cnt"
   ]
  },
  {
   "cell_type": "code",
   "execution_count": null,
   "id": "built-myanmar",
   "metadata": {},
   "outputs": [],
   "source": [
    "seq_str = str(dic_utr3['ENSMUST00000087600'].seq)"
   ]
  },
  {
   "cell_type": "code",
   "execution_count": null,
   "id": "dressed-stewart",
   "metadata": {},
   "outputs": [],
   "source": []
  },
  {
   "cell_type": "code",
   "execution_count": null,
   "id": "touched-genre",
   "metadata": {},
   "outputs": [],
   "source": []
  },
  {
   "cell_type": "code",
   "execution_count": null,
   "id": "developed-specific",
   "metadata": {},
   "outputs": [],
   "source": []
  },
  {
   "cell_type": "code",
   "execution_count": null,
   "id": "multiple-binary",
   "metadata": {},
   "outputs": [],
   "source": []
  },
  {
   "cell_type": "code",
   "execution_count": 74,
   "id": "christian-diabetes",
   "metadata": {},
   "outputs": [
    {
     "data": {
      "text/plain": [
       "{'ENSMUST00000113402': [246, 0.07, 18],\n",
       " 'ENSMUST00000081840': [54, 0.06, 3],\n",
       " 'ENSMUST00000160662': [733, 0.08, 61],\n",
       " 'ENSMUST00000078804': [68, 0.06, 4],\n",
       " 'ENSMUST00000142643': [50, 0.06, 3],\n",
       " 'ENSMUST00000000756': [42, 0.07, 3],\n",
       " 'ENSMUST00000106588': [36, 0.08, 3],\n",
       " 'ENSMUST00000027193': [159, 0.05, 8],\n",
       " 'ENSMUST00000188524': [44, 0.07, 3]}"
      ]
     },
     "execution_count": 74,
     "metadata": {},
     "output_type": "execute_result"
    }
   ],
   "source": [
    "{x: [len(dic_utr3[x].seq), round(bar[x],2), df_basal.loc['AAA'][x]] for x in bar[bar > 0.05].index}"
   ]
  },
  {
   "cell_type": "code",
   "execution_count": 84,
   "id": "smooth-insurance",
   "metadata": {},
   "outputs": [
    {
     "data": {
      "text/plain": [
       "[-7102,\n",
       " -3711,\n",
       " -1950,\n",
       " -1773,\n",
       " -3748,\n",
       " -23789,\n",
       " -4180,\n",
       " -10684,\n",
       " -4172,\n",
       " -3589,\n",
       " -5777,\n",
       " -5993,\n",
       " -3345,\n",
       " -4853,\n",
       " -380,\n",
       " -5043,\n",
       " -4938,\n",
       " -3970,\n",
       " -2152,\n",
       " -2638,\n",
       " -2556,\n",
       " -3815,\n",
       " -6611,\n",
       " -1501,\n",
       " -15978,\n",
       " -13928,\n",
       " -4980,\n",
       " -5453,\n",
       " -1023,\n",
       " -187,\n",
       " -80,\n",
       " -118,\n",
       " -5572,\n",
       " -4482,\n",
       " -490,\n",
       " -1208,\n",
       " -6319,\n",
       " -12341,\n",
       " -3831,\n",
       " -3375,\n",
       " -7877,\n",
       " -2019,\n",
       " -147,\n",
       " -390,\n",
       " -14712,\n",
       " -87,\n",
       " -5197,\n",
       " -1572,\n",
       " -10616,\n",
       " -3571,\n",
       " -30464,\n",
       " -72998,\n",
       " -135,\n",
       " -7501,\n",
       " -4243,\n",
       " -5205,\n",
       " -1355,\n",
       " -112,\n",
       " -3809,\n",
       " -6106,\n",
       " -328,\n",
       " -79,\n",
       " -4355,\n",
       " -2425,\n",
       " -66,\n",
       " -4793,\n",
       " -6011,\n",
       " -1177,\n",
       " -3742,\n",
       " -3070,\n",
       " -117,\n",
       " -71,\n",
       " -1314,\n",
       " -60,\n",
       " -96,\n",
       " -3365,\n",
       " -2970,\n",
       " -1815,\n",
       " -738,\n",
       " -9192,\n",
       " -1240,\n",
       " -1108,\n",
       " -396,\n",
       " -2275,\n",
       " -264,\n",
       " -79,\n",
       " -2782]"
      ]
     },
     "execution_count": 84,
     "metadata": {},
     "output_type": "execute_result"
    }
   ],
   "source": [
    "[len(dic_utr3[x].seq) - df_basal[x].sum() * 3 for x in df_basal.columns]"
   ]
  },
  {
   "cell_type": "code",
   "execution_count": 77,
   "id": "automatic-institute",
   "metadata": {},
   "outputs": [
    {
     "data": {
      "text/plain": [
       "246"
      ]
     },
     "execution_count": 77,
     "metadata": {},
     "output_type": "execute_result"
    }
   ],
   "source": []
  },
  {
   "cell_type": "code",
   "execution_count": 78,
   "id": "infinite-tragedy",
   "metadata": {},
   "outputs": [
    {
     "data": {
      "text/plain": [
       "AAA    18\n",
       "AAT     6\n",
       "AAC     2\n",
       "AAG     6\n",
       "ATA     6\n",
       "       ..\n",
       "GCG     1\n",
       "GGA     7\n",
       "GGT     5\n",
       "GGC     7\n",
       "GGG    11\n",
       "Name: ENSMUST00000113402, Length: 64, dtype: int64"
      ]
     },
     "execution_count": 78,
     "metadata": {},
     "output_type": "execute_result"
    }
   ],
   "source": [
    "df_basal['ENSMUST00000113402']"
   ]
  },
  {
   "cell_type": "code",
   "execution_count": 135,
   "id": "written-tunisia",
   "metadata": {},
   "outputs": [],
   "source": [
    "def generate_ranking_series(df, col_name):\n",
    "    _df = df.sum(axis=1)\n",
    "    _df = _df.sort_values(ascending=False)\n",
    "    df2 = pd.Series([i+1 for i,x in enumerate(_df)], _df.index)\n",
    "    df2.name = col_name\n",
    "    return df2"
   ]
  },
  {
   "cell_type": "code",
   "execution_count": 140,
   "id": "boring-insured",
   "metadata": {},
   "outputs": [
    {
     "data": {
      "text/html": [
       "<div>\n",
       "<style scoped>\n",
       "    .dataframe tbody tr th:only-of-type {\n",
       "        vertical-align: middle;\n",
       "    }\n",
       "\n",
       "    .dataframe tbody tr th {\n",
       "        vertical-align: top;\n",
       "    }\n",
       "\n",
       "    .dataframe thead th {\n",
       "        text-align: right;\n",
       "    }\n",
       "</style>\n",
       "<table border=\"1\" class=\"dataframe\">\n",
       "  <thead>\n",
       "    <tr style=\"text-align: right;\">\n",
       "      <th></th>\n",
       "      <th>apical</th>\n",
       "      <th>basal</th>\n",
       "    </tr>\n",
       "  </thead>\n",
       "  <tbody>\n",
       "    <tr>\n",
       "      <th>apical</th>\n",
       "      <td>1.00</td>\n",
       "      <td>0.33</td>\n",
       "    </tr>\n",
       "    <tr>\n",
       "      <th>basal</th>\n",
       "      <td>0.33</td>\n",
       "      <td>1.00</td>\n",
       "    </tr>\n",
       "  </tbody>\n",
       "</table>\n",
       "</div>"
      ],
      "text/plain": [
       "       apical basal\n",
       "apical   1.00  0.33\n",
       "basal    0.33  1.00"
      ]
     },
     "execution_count": 140,
     "metadata": {},
     "output_type": "execute_result"
    }
   ],
   "source": [
    "df_rank = pd.merge(generate_ranking_series(df_apical, 'apical'), generate_ranking_series(df_basal, 'basal'), right_index=True, left_index=True)\n",
    "df_rank.corr().applymap('{:,.2f}'.format)"
   ]
  },
  {
   "cell_type": "code",
   "execution_count": 146,
   "id": "handmade-distributor",
   "metadata": {},
   "outputs": [
    {
     "data": {
      "text/html": [
       "<div>\n",
       "<style scoped>\n",
       "    .dataframe tbody tr th:only-of-type {\n",
       "        vertical-align: middle;\n",
       "    }\n",
       "\n",
       "    .dataframe tbody tr th {\n",
       "        vertical-align: top;\n",
       "    }\n",
       "\n",
       "    .dataframe thead th {\n",
       "        text-align: right;\n",
       "    }\n",
       "</style>\n",
       "<table border=\"1\" class=\"dataframe\">\n",
       "  <thead>\n",
       "    <tr style=\"text-align: right;\">\n",
       "      <th></th>\n",
       "      <th>apical1</th>\n",
       "      <th>apical2</th>\n",
       "    </tr>\n",
       "  </thead>\n",
       "  <tbody>\n",
       "    <tr>\n",
       "      <th>apical1</th>\n",
       "      <td>1.00</td>\n",
       "      <td>0.33</td>\n",
       "    </tr>\n",
       "    <tr>\n",
       "      <th>apical2</th>\n",
       "      <td>0.33</td>\n",
       "      <td>1.00</td>\n",
       "    </tr>\n",
       "  </tbody>\n",
       "</table>\n",
       "</div>"
      ],
      "text/plain": [
       "        apical1 apical2\n",
       "apical1    1.00    0.33\n",
       "apical2    0.33    1.00"
      ]
     },
     "execution_count": 146,
     "metadata": {},
     "output_type": "execute_result"
    }
   ],
   "source": [
    "df_apical_even = df_apical[[x for i, x in enumerate(df_apical.columns) if i % 2 == 0]]\n",
    "df_apical_odd = df_apical[[x for i, x in enumerate(df_apical.columns) if i % 2 == 1]]\n",
    "df_rank2 = pd.merge(generate_ranking_series(df_apical_even, 'apical1'), generate_ranking_series(df_apical_odd, 'apical2'), right_index=True, left_index=True)\n",
    "df_rank2.corr().applymap('{:,.2f}'.format)"
   ]
  },
  {
   "cell_type": "code",
   "execution_count": 157,
   "id": "cooked-great",
   "metadata": {},
   "outputs": [
    {
     "data": {
      "text/html": [
       "<div>\n",
       "<style scoped>\n",
       "    .dataframe tbody tr th:only-of-type {\n",
       "        vertical-align: middle;\n",
       "    }\n",
       "\n",
       "    .dataframe tbody tr th {\n",
       "        vertical-align: top;\n",
       "    }\n",
       "\n",
       "    .dataframe thead th {\n",
       "        text-align: right;\n",
       "    }\n",
       "</style>\n",
       "<table border=\"1\" class=\"dataframe\">\n",
       "  <thead>\n",
       "    <tr style=\"text-align: right;\">\n",
       "      <th></th>\n",
       "      <th>basal1</th>\n",
       "      <th>basal2</th>\n",
       "    </tr>\n",
       "  </thead>\n",
       "  <tbody>\n",
       "    <tr>\n",
       "      <th>basal1</th>\n",
       "      <td>1.00</td>\n",
       "      <td>0.62</td>\n",
       "    </tr>\n",
       "    <tr>\n",
       "      <th>basal2</th>\n",
       "      <td>0.62</td>\n",
       "      <td>1.00</td>\n",
       "    </tr>\n",
       "  </tbody>\n",
       "</table>\n",
       "</div>"
      ],
      "text/plain": [
       "       basal1 basal2\n",
       "basal1   1.00   0.62\n",
       "basal2   0.62   1.00"
      ]
     },
     "execution_count": 157,
     "metadata": {},
     "output_type": "execute_result"
    }
   ],
   "source": [
    "df_basal_even = df_basal[[x for i, x in enumerate(df_basal.columns) if i % 2 == 0]]\n",
    "df_basal_odd = df_basal[[x for i, x in enumerate(df_basal.columns) if i % 2 == 1]]\n",
    "df_rank3 = pd.merge(generate_ranking_series(df_basal_even, 'basal1'), generate_ranking_series(df_basal_odd, 'basal2'), right_index=True, left_index=True)\n",
    "df_rank3.corr().applymap('{:,.2f}'.format)"
   ]
  },
  {
   "cell_type": "code",
   "execution_count": 156,
   "id": "oriental-migration",
   "metadata": {},
   "outputs": [
    {
     "data": {
      "text/html": [
       "<div>\n",
       "<style scoped>\n",
       "    .dataframe tbody tr th:only-of-type {\n",
       "        vertical-align: middle;\n",
       "    }\n",
       "\n",
       "    .dataframe tbody tr th {\n",
       "        vertical-align: top;\n",
       "    }\n",
       "\n",
       "    .dataframe thead th {\n",
       "        text-align: right;\n",
       "    }\n",
       "</style>\n",
       "<table border=\"1\" class=\"dataframe\">\n",
       "  <thead>\n",
       "    <tr style=\"text-align: right;\">\n",
       "      <th></th>\n",
       "      <th>basal1</th>\n",
       "      <th>apical2</th>\n",
       "    </tr>\n",
       "  </thead>\n",
       "  <tbody>\n",
       "    <tr>\n",
       "      <th>basal1</th>\n",
       "      <td>1.00</td>\n",
       "      <td>0.30</td>\n",
       "    </tr>\n",
       "    <tr>\n",
       "      <th>apical2</th>\n",
       "      <td>0.30</td>\n",
       "      <td>1.00</td>\n",
       "    </tr>\n",
       "  </tbody>\n",
       "</table>\n",
       "</div>"
      ],
      "text/plain": [
       "        basal1 apical2\n",
       "basal1    1.00    0.30\n",
       "apical2   0.30    1.00"
      ]
     },
     "execution_count": 156,
     "metadata": {},
     "output_type": "execute_result"
    }
   ],
   "source": [
    "df_rank4 = pd.merge(generate_ranking_series(df_basal_even, 'basal1'),generate_ranking_series(df_apical_odd, 'apical2'), right_index=True, left_index=True)\n",
    "df_rank4.corr().applymap('{:,.2f}'.format)"
   ]
  },
  {
   "cell_type": "code",
   "execution_count": 162,
   "id": "authentic-plumbing",
   "metadata": {},
   "outputs": [
    {
     "data": {
      "text/html": [
       "<div>\n",
       "<style scoped>\n",
       "    .dataframe tbody tr th:only-of-type {\n",
       "        vertical-align: middle;\n",
       "    }\n",
       "\n",
       "    .dataframe tbody tr th {\n",
       "        vertical-align: top;\n",
       "    }\n",
       "\n",
       "    .dataframe thead th {\n",
       "        text-align: right;\n",
       "    }\n",
       "</style>\n",
       "<table border=\"1\" class=\"dataframe\">\n",
       "  <thead>\n",
       "    <tr style=\"text-align: right;\">\n",
       "      <th></th>\n",
       "      <th>basal2</th>\n",
       "      <th>apical1</th>\n",
       "    </tr>\n",
       "  </thead>\n",
       "  <tbody>\n",
       "    <tr>\n",
       "      <th>basal2</th>\n",
       "      <td>1.00</td>\n",
       "      <td>0.46</td>\n",
       "    </tr>\n",
       "    <tr>\n",
       "      <th>apical1</th>\n",
       "      <td>0.46</td>\n",
       "      <td>1.00</td>\n",
       "    </tr>\n",
       "  </tbody>\n",
       "</table>\n",
       "</div>"
      ],
      "text/plain": [
       "        basal2 apical1\n",
       "basal2    1.00    0.46\n",
       "apical1   0.46    1.00"
      ]
     },
     "execution_count": 162,
     "metadata": {},
     "output_type": "execute_result"
    }
   ],
   "source": [
    "df_rank5 = pd.merge(generate_ranking_series(df_basal_odd, 'basal2'),generate_ranking_series(df_apical_even, 'apical1'), right_index=True, left_index=True)\n",
    "df_rank5.corr().applymap('{:,.2f}'.format)"
   ]
  },
  {
   "cell_type": "code",
   "execution_count": 161,
   "id": "instructional-killing",
   "metadata": {},
   "outputs": [
    {
     "data": {
      "text/html": [
       "<div>\n",
       "<style scoped>\n",
       "    .dataframe tbody tr th:only-of-type {\n",
       "        vertical-align: middle;\n",
       "    }\n",
       "\n",
       "    .dataframe tbody tr th {\n",
       "        vertical-align: top;\n",
       "    }\n",
       "\n",
       "    .dataframe thead th {\n",
       "        text-align: right;\n",
       "    }\n",
       "</style>\n",
       "<table border=\"1\" class=\"dataframe\">\n",
       "  <thead>\n",
       "    <tr style=\"text-align: right;\">\n",
       "      <th></th>\n",
       "      <th>basal2</th>\n",
       "      <th>basal2_dup</th>\n",
       "    </tr>\n",
       "  </thead>\n",
       "  <tbody>\n",
       "    <tr>\n",
       "      <th>basal2</th>\n",
       "      <td>1.00</td>\n",
       "      <td>1.00</td>\n",
       "    </tr>\n",
       "    <tr>\n",
       "      <th>basal2_dup</th>\n",
       "      <td>1.00</td>\n",
       "      <td>1.00</td>\n",
       "    </tr>\n",
       "  </tbody>\n",
       "</table>\n",
       "</div>"
      ],
      "text/plain": [
       "           basal2 basal2_dup\n",
       "basal2       1.00       1.00\n",
       "basal2_dup   1.00       1.00"
      ]
     },
     "execution_count": 161,
     "metadata": {},
     "output_type": "execute_result"
    }
   ],
   "source": [
    "df_rank6 = pd.merge(generate_ranking_series(df_basal_odd, 'basal2'),generate_ranking_series(df_basal_odd, 'basal2_dup'), right_index=True, left_index=True)\n",
    "df_rank6.corr().applymap('{:,.2f}'.format)"
   ]
  },
  {
   "cell_type": "code",
   "execution_count": 154,
   "id": "intended-exemption",
   "metadata": {},
   "outputs": [
    {
     "data": {
      "text/plain": [
       "TTTTTTTTTT    38\n",
       "AAAAAAAAAA    36\n",
       "CACACACACA    36\n",
       "AGAAAGAAAG    33\n",
       "AAGAAAGAAA    33\n",
       "              ..\n",
       "TCGCGGTTGG     0\n",
       "TCGCGGTCAA     0\n",
       "TCGCGGTCAT     0\n",
       "TCGCGGTCAC     0\n",
       "CAAAAAGAAT     0\n",
       "Length: 1048576, dtype: int64"
      ]
     },
     "execution_count": 154,
     "metadata": {},
     "output_type": "execute_result"
    }
   ],
   "source": [
    "df_basal.sum(axis=1).sort_values(ascending=False)"
   ]
  },
  {
   "cell_type": "code",
   "execution_count": null,
   "id": "civil-italy",
   "metadata": {},
   "outputs": [],
   "source": []
  }
 ],
 "metadata": {
  "kernelspec": {
   "display_name": "Python 3",
   "language": "python",
   "name": "python3"
  },
  "language_info": {
   "codemirror_mode": {
    "name": "ipython",
    "version": 3
   },
   "file_extension": ".py",
   "mimetype": "text/x-python",
   "name": "python",
   "nbconvert_exporter": "python",
   "pygments_lexer": "ipython3",
   "version": "3.8.3"
  }
 },
 "nbformat": 4,
 "nbformat_minor": 5
}
